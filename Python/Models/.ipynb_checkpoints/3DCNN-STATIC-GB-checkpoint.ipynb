{
 "cells": [
  {
   "cell_type": "code",
   "execution_count": 1,
   "id": "7ac76d77-77af-4d03-aff6-1b2cb6774553",
   "metadata": {},
   "outputs": [
    {
     "name": "stdout",
     "output_type": "stream",
     "text": [
      "cpu\n"
     ]
    },
    {
     "name": "stderr",
     "output_type": "stream",
     "text": [
      "50540it [02:51, 294.72it/s]\n",
      "2661it [00:08, 329.45it/s]\n",
      "25670it [01:20, 319.33it/s]\n"
     ]
    }
   ],
   "source": [
    "import os\n",
    "import pandas as pd \n",
    "import numpy as np \n",
    "from tqdm import tqdm\n",
    "import torch\n",
    "from torch import nn, optim\n",
    "from torch.utils.data import Dataset, DataLoader\n",
    "from sklearn.preprocessing import LabelEncoder\n",
    "from sklearn.model_selection import train_test_split, GridSearchCV\n",
    "from sklearn import metrics\n",
    "from matplotlib import pyplot as plt\n",
    "from sklearn.ensemble import GradientBoostingClassifier\n",
    "import seaborn as sns\n",
    "\n",
    "BASE_DIR = r\"C:\\Users\\Keelan.Butler\\Desktop\\python_projects\\Final Project\"\n",
    "device = torch.device(\"cuda\" if torch.cuda.is_available() else \"cpu\")\n",
    "print(device)\n",
    "ROUTE_DIR = r\"C:\\Users\\Keelan.Butler\\Desktop\\python_projects\\Final Project\"\n",
    "DATA_DIR = os.path.join(ROUTE_DIR,\"Sentry-AI\",\"Python\")\n",
    "FEATURE_PATH = os.path.join(BASE_DIR,\"Dataset\",\"features\")\n",
    "os.chdir(DATA_DIR)\n",
    "df_train, df_test = pd.read_csv('Train_set.csv'),pd.read_csv('Test_set.csv')\n",
    "# load features \n",
    "df_train_new, df_val = train_test_split(df_train, test_size=0.05, stratify=df_train['Anomaly_Type'], random_state=42)\n",
    "\n",
    "def load_features(dataframe):\n",
    "    \"\"\"Function extracts features from dataframe and processes them for modelling.\n",
    "    returns: features, anomaly, anomaly_bool, frame_number\n",
    "    Arg:\n",
    "    - dataframe: This will be our test/train dataset. \n",
    "    Returns: \n",
    "    - Features: Loaded features from corresponding npy file. \n",
    "    - anon_type: A break down on what anomaly has occured, otherwise Normal. \n",
    "    - anon_bool: A boolean of anomaly occurance.\n",
    "    - start_frame: List of the corresponding final frame of the sliding window\n",
    "    - end_frame: List of the corresponding final frame of the sliding window\n",
    "    - video_names: List of video names, this enables up to partition by videos.\n",
    "    \"\"\"\n",
    "    features = []\n",
    "    anon_type = []\n",
    "    anon_bool = []\n",
    "    start_index = []\n",
    "    end_index = []\n",
    "    video_names = []\n",
    "    for path,subdir, label, lab_bool, clip_start, clip_end, video_name in tqdm(zip(dataframe['feature_path'],dataframe['subfolder'], dataframe['Anomaly_Type'], dataframe['Anomaly'], dataframe['Start_of_Clip'], dataframe['End_of_Clip'], dataframe['name'])):\n",
    "        feature = np.load(os.path.join(FEATURE_PATH,subdir,path)) # Accesses the relevant path through our relational database \n",
    "        features.append(feature) # List of loaded npy features.\n",
    "        anon_type.append(label) # List of type of anomalies. \n",
    "        anon_bool.append(lab_bool) # 1 for anomaly, 0 for normal.\n",
    "        video_names.append(video_name) # List of video names.\n",
    "        start_index.append(clip_start) # List of clip start frame\n",
    "        end_index.append(clip_end) # List of clip start frame\n",
    "    return features, anon_type, anon_bool, start_index,end_index, video_names\n",
    "\n",
    "train_features, train_anon_type, train_anon_bool, train_start_index,train_end_index, train_video_names = load_features(df_train_new)\n",
    "val_features, val_anon_type, val_anon_bool, val_start_index,val_end_index, val_video_names = load_features(df_val)\n",
    "test_features, test_anon_type, test_anon_bool, test_start_index, test_end_index, test_video_names = load_features(df_test)\n",
    "\n",
    "l_encoder = LabelEncoder()\n",
    "train_anon_type = l_encoder.fit_transform(train_anon_type)\n",
    "val_anon_type = l_encoder.transform(val_anon_type)\n",
    "test_anon_type = l_encoder.transform(test_anon_type)\n",
    "\n",
    "class CLIP_DATA(Dataset):\n",
    "    \"\"\"Dataset class for clip-based video anomaly detection\"\"\"\n",
    "\n",
    "    def __init__(self, features, anon_label, anon_bool):\n",
    "        self.features = [torch.from_numpy(arr).float() for arr in features]  # Convert once\n",
    "        self.anon_label = torch.tensor(anon_label, dtype=torch.long)  # Label-encoded anomaly type\n",
    "        self.anon_bool = torch.tensor(anon_bool, dtype=torch.float32)  # Binary anomaly indicator (0 or 1)\n",
    "\n",
    "    def __len__(self):\n",
    "        return len(self.features) \n",
    "\n",
    "    def __getitem__(self, idx):\n",
    "        return self.features[idx], self.anon_label[idx], self.anon_bool[idx]\n",
    "\n",
    "\n",
    "training_data = CLIP_DATA(train_features, train_anon_type, train_anon_bool)\n",
    "validation_data = CLIP_DATA(val_features, val_anon_type, val_anon_bool)\n",
    "test_data = CLIP_DATA(test_features, test_anon_type, test_anon_bool)\n",
    "\n",
    "train_dataloader = DataLoader(training_data, batch_size=64, shuffle=False)\n",
    "validation_dataloader = DataLoader(training_data, batch_size=64, shuffle=False)\n",
    "test_dataloader = DataLoader(test_data, batch_size=64, shuffle=False)\n",
    "\n"
   ]
  },
  {
   "cell_type": "code",
   "execution_count": 2,
   "id": "9fcd8043-c5b4-41e9-8d10-41f9adbe34a1",
   "metadata": {},
   "outputs": [
    {
     "name": "stdout",
     "output_type": "stream",
     "text": [
      "Initial Model Accuracy: 0.7957927541877678\n",
      "Initial Model F1 Score: 0.4540720683191002\n"
     ]
    }
   ],
   "source": [
    "model = GradientBoostingClassifier()\n",
    "model.fit(train_features, train_anon_bool)\n",
    "\n",
    "\n",
    "print(\"Initial Model Accuracy:\", model.score(test_features, test_anon_bool))\n",
    "print(\"Initial Model F1 Score:\", metrics.f1_score(test_anon_bool, model.predict(test_features)))"
   ]
  },
  {
   "cell_type": "code",
   "execution_count": 3,
   "id": "12ad209d-fe06-4e8f-ac83-30ab77e072bb",
   "metadata": {},
   "outputs": [
    {
     "data": {
      "text/plain": [
       "<Axes: >"
      ]
     },
     "execution_count": 3,
     "metadata": {},
     "output_type": "execute_result"
    },
    {
     "data": {
      "image/png": "[encoded data removed]",
      "text/plain": [
       "<Figure size 640x480 with 2 Axes>"
      ]
     },
     "metadata": {},
     "output_type": "display_data"
    }
   ],
   "source": [
    "original_cm = metrics.confusion_matrix(test_anon_bool, model.predict(test_features))\n",
    "sns.heatmap(original_cm, annot=True)"
   ]
  },
  {
   "cell_type": "code",
   "execution_count": 4,
   "id": "e635bba8-0021-4f2c-9255-cd783a7ce553",
   "metadata": {},
   "outputs": [
    {
     "data": {
      "text/plain": [
       "0.4540720683191002"
      ]
     },
     "execution_count": 4,
     "metadata": {},
     "output_type": "execute_result"
    }
   ],
   "source": [
    "metrics.f1_score(model.predict(test_features),test_anon_bool)"
   ]
  },
  {
   "cell_type": "code",
   "execution_count": 5,
   "id": "718bf7db-3fc4-42ce-93a7-5ddf21ee8c1a",
   "metadata": {},
   "outputs": [],
   "source": [
    "# Hyperparameter tuning\n",
    "param_grid = {\n",
    "    'n_estimators': [100, 300, 500, 1000],  # Number of trees\n",
    "    'learning_rate': [0.01, 0.05, 0.1, 0.2]  # Step size shrinkage\n",
    "}\n"
   ]
  },
  {
   "cell_type": "code",
   "execution_count": 6,
   "id": "a3e0fdb7-c5c4-44d4-8ebc-6c18b6ff2008",
   "metadata": {},
   "outputs": [
    {
     "data": {
      "text/html": [
       "<style>#sk-container-id-1 {color: black;}#sk-container-id-1 pre{padding: 0;}#sk-container-id-1 div.sk-toggleable {background-color: white;}#sk-container-id-1 label.sk-toggleable__label {cursor: pointer;display: block;width: 100%;margin-bottom: 0;padding: 0.3em;box-sizing: border-box;text-align: center;}#sk-container-id-1 label.sk-toggleable__label-arrow:before {content: \"▸\";float: left;margin-right: 0.25em;color: #696969;}#sk-container-id-1 label.sk-toggleable__label-arrow:hover:before {color: black;}#sk-container-id-1 div.sk-estimator:hover label.sk-toggleable__label-arrow:before {color: black;}#sk-container-id-1 div.sk-toggleable__content {max-height: 0;max-width: 0;overflow: hidden;text-align: left;background-color: #f0f8ff;}#sk-container-id-1 div.sk-toggleable__content pre {margin: 0.2em;color: black;border-radius: 0.25em;background-color: #f0f8ff;}#sk-container-id-1 input.sk-toggleable__control:checked~div.sk-toggleable__content {max-height: 200px;max-width: 100%;overflow: auto;}#sk-container-id-1 input.sk-toggleable__control:checked~label.sk-toggleable__label-arrow:before {content: \"▾\";}#sk-container-id-1 div.sk-estimator input.sk-toggleable__control:checked~label.sk-toggleable__label {background-color: #d4ebff;}#sk-container-id-1 div.sk-label input.sk-toggleable__control:checked~label.sk-toggleable__label {background-color: #d4ebff;}#sk-container-id-1 input.sk-hidden--visually {border: 0;clip: rect(1px 1px 1px 1px);clip: rect(1px, 1px, 1px, 1px);height: 1px;margin: -1px;overflow: hidden;padding: 0;position: absolute;width: 1px;}#sk-container-id-1 div.sk-estimator {font-family: monospace;background-color: #f0f8ff;border: 1px dotted black;border-radius: 0.25em;box-sizing: border-box;margin-bottom: 0.5em;}#sk-container-id-1 div.sk-estimator:hover {background-color: #d4ebff;}#sk-container-id-1 div.sk-parallel-item::after {content: \"\";width: 100%;border-bottom: 1px solid gray;flex-grow: 1;}#sk-container-id-1 div.sk-label:hover label.sk-toggleable__label {background-color: #d4ebff;}#sk-container-id-1 div.sk-serial::before {content: \"\";position: absolute;border-left: 1px solid gray;box-sizing: border-box;top: 0;bottom: 0;left: 50%;z-index: 0;}#sk-container-id-1 div.sk-serial {display: flex;flex-direction: column;align-items: center;background-color: white;padding-right: 0.2em;padding-left: 0.2em;position: relative;}#sk-container-id-1 div.sk-item {position: relative;z-index: 1;}#sk-container-id-1 div.sk-parallel {display: flex;align-items: stretch;justify-content: center;background-color: white;position: relative;}#sk-container-id-1 div.sk-item::before, #sk-container-id-1 div.sk-parallel-item::before {content: \"\";position: absolute;border-left: 1px solid gray;box-sizing: border-box;top: 0;bottom: 0;left: 50%;z-index: -1;}#sk-container-id-1 div.sk-parallel-item {display: flex;flex-direction: column;z-index: 1;position: relative;background-color: white;}#sk-container-id-1 div.sk-parallel-item:first-child::after {align-self: flex-end;width: 50%;}#sk-container-id-1 div.sk-parallel-item:last-child::after {align-self: flex-start;width: 50%;}#sk-container-id-1 div.sk-parallel-item:only-child::after {width: 0;}#sk-container-id-1 div.sk-dashed-wrapped {border: 1px dashed gray;margin: 0 0.4em 0.5em 0.4em;box-sizing: border-box;padding-bottom: 0.4em;background-color: white;}#sk-container-id-1 div.sk-label label {font-family: monospace;font-weight: bold;display: inline-block;line-height: 1.2em;}#sk-container-id-1 div.sk-label-container {text-align: center;}#sk-container-id-1 div.sk-container {/* jupyter's `normalize.less` sets `[hidden] { display: none; }` but bootstrap.min.css set `[hidden] { display: none !important; }` so we also need the `!important` here to be able to override the default hidden behavior on the sphinx rendered scikit-learn.org. See: https://github.com/scikit-learn/scikit-learn/issues/21755 */display: inline-block !important;position: relative;}#sk-container-id-1 div.sk-text-repr-fallback {display: none;}</style><div id=\"sk-container-id-1\" class=\"sk-top-container\"><div class=\"sk-text-repr-fallback\"><pre>GridSearchCV(cv=2, estimator=GradientBoostingClassifier(), n_jobs=-1,\n",
       "             param_grid={&#x27;learning_rate&#x27;: [0.01, 0.05, 0.1, 0.2],\n",
       "                         &#x27;n_estimators&#x27;: [100, 300, 500, 1000]},\n",
       "             scoring=&#x27;f1&#x27;)</pre><b>In a Jupyter environment, please rerun this cell to show the HTML representation or trust the notebook. <br />On GitHub, the HTML representation is unable to render, please try loading this page with nbviewer.org.</b></div><div class=\"sk-container\" hidden><div class=\"sk-item sk-dashed-wrapped\"><div class=\"sk-label-container\"><div class=\"sk-label sk-toggleable\"><input class=\"sk-toggleable__control sk-hidden--visually\" id=\"sk-estimator-id-1\" type=\"checkbox\" ><label for=\"sk-estimator-id-1\" class=\"sk-toggleable__label sk-toggleable__label-arrow\">GridSearchCV</label><div class=\"sk-toggleable__content\"><pre>GridSearchCV(cv=2, estimator=GradientBoostingClassifier(), n_jobs=-1,\n",
       "             param_grid={&#x27;learning_rate&#x27;: [0.01, 0.05, 0.1, 0.2],\n",
       "                         &#x27;n_estimators&#x27;: [100, 300, 500, 1000]},\n",
       "             scoring=&#x27;f1&#x27;)</pre></div></div></div><div class=\"sk-parallel\"><div class=\"sk-parallel-item\"><div class=\"sk-item\"><div class=\"sk-label-container\"><div class=\"sk-label sk-toggleable\"><input class=\"sk-toggleable__control sk-hidden--visually\" id=\"sk-estimator-id-2\" type=\"checkbox\" ><label for=\"sk-estimator-id-2\" class=\"sk-toggleable__label sk-toggleable__label-arrow\">estimator: GradientBoostingClassifier</label><div class=\"sk-toggleable__content\"><pre>GradientBoostingClassifier()</pre></div></div></div><div class=\"sk-serial\"><div class=\"sk-item\"><div class=\"sk-estimator sk-toggleable\"><input class=\"sk-toggleable__control sk-hidden--visually\" id=\"sk-estimator-id-3\" type=\"checkbox\" ><label for=\"sk-estimator-id-3\" class=\"sk-toggleable__label sk-toggleable__label-arrow\">GradientBoostingClassifier</label><div class=\"sk-toggleable__content\"><pre>GradientBoostingClassifier()</pre></div></div></div></div></div></div></div></div></div></div>"
      ],
      "text/plain": [
       "GridSearchCV(cv=2, estimator=GradientBoostingClassifier(), n_jobs=-1,\n",
       "             param_grid={'learning_rate': [0.01, 0.05, 0.1, 0.2],\n",
       "                         'n_estimators': [100, 300, 500, 1000]},\n",
       "             scoring='f1')"
      ]
     },
     "execution_count": 6,
     "metadata": {},
     "output_type": "execute_result"
    }
   ],
   "source": [
    "search = GridSearchCV(model, param_grid=param_grid, cv=2, scoring=\"f1\", n_jobs=-1)\n",
    "search.fit(val_features, val_anon_bool)\n"
   ]
  },
  {
   "cell_type": "code",
   "execution_count": 11,
   "id": "dc8ad27f-2f27-496f-9ece-be4b6fc5af9e",
   "metadata": {},
   "outputs": [
    {
     "data": {
      "text/html": [
       "<div>\n",
       "<style scoped>\n",
       "    .dataframe tbody tr th:only-of-type {\n",
       "        vertical-align: middle;\n",
       "    }\n",
       "\n",
       "    .dataframe tbody tr th {\n",
       "        vertical-align: top;\n",
       "    }\n",
       "\n",
       "    .dataframe thead th {\n",
       "        text-align: right;\n",
       "    }\n",
       "</style>\n",
       "<table border=\"1\" class=\"dataframe\">\n",
       "  <thead>\n",
       "    <tr style=\"text-align: right;\">\n",
       "      <th></th>\n",
       "      <th>mean_fit_time</th>\n",
       "      <th>std_fit_time</th>\n",
       "      <th>mean_score_time</th>\n",
       "      <th>std_score_time</th>\n",
       "      <th>param_learning_rate</th>\n",
       "      <th>param_n_estimators</th>\n",
       "      <th>params</th>\n",
       "      <th>split0_test_score</th>\n",
       "      <th>split1_test_score</th>\n",
       "      <th>mean_test_score</th>\n",
       "      <th>std_test_score</th>\n",
       "      <th>rank_test_score</th>\n",
       "    </tr>\n",
       "  </thead>\n",
       "  <tbody>\n",
       "    <tr>\n",
       "      <th>0</th>\n",
       "      <td>158.435803</td>\n",
       "      <td>0.602502</td>\n",
       "      <td>0.019482</td>\n",
       "      <td>0.005286</td>\n",
       "      <td>0.01</td>\n",
       "      <td>100</td>\n",
       "      <td>{'learning_rate': 0.01, 'n_estimators': 100}</td>\n",
       "      <td>0.309278</td>\n",
       "      <td>0.270833</td>\n",
       "      <td>0.290056</td>\n",
       "      <td>0.019223</td>\n",
       "      <td>16</td>\n",
       "    </tr>\n",
       "    <tr>\n",
       "      <th>1</th>\n",
       "      <td>471.684873</td>\n",
       "      <td>0.332610</td>\n",
       "      <td>0.029702</td>\n",
       "      <td>0.000505</td>\n",
       "      <td>0.01</td>\n",
       "      <td>300</td>\n",
       "      <td>{'learning_rate': 0.01, 'n_estimators': 300}</td>\n",
       "      <td>0.559322</td>\n",
       "      <td>0.589532</td>\n",
       "      <td>0.574427</td>\n",
       "      <td>0.015105</td>\n",
       "      <td>15</td>\n",
       "    </tr>\n",
       "    <tr>\n",
       "      <th>2</th>\n",
       "      <td>808.876536</td>\n",
       "      <td>20.309863</td>\n",
       "      <td>0.054856</td>\n",
       "      <td>0.008626</td>\n",
       "      <td>0.01</td>\n",
       "      <td>500</td>\n",
       "      <td>{'learning_rate': 0.01, 'n_estimators': 500}</td>\n",
       "      <td>0.638522</td>\n",
       "      <td>0.658031</td>\n",
       "      <td>0.648277</td>\n",
       "      <td>0.009754</td>\n",
       "      <td>14</td>\n",
       "    </tr>\n",
       "    <tr>\n",
       "      <th>3</th>\n",
       "      <td>1588.213742</td>\n",
       "      <td>9.315773</td>\n",
       "      <td>0.150089</td>\n",
       "      <td>0.008987</td>\n",
       "      <td>0.01</td>\n",
       "      <td>1000</td>\n",
       "      <td>{'learning_rate': 0.01, 'n_estimators': 1000}</td>\n",
       "      <td>0.693671</td>\n",
       "      <td>0.714286</td>\n",
       "      <td>0.703978</td>\n",
       "      <td>0.010307</td>\n",
       "      <td>12</td>\n",
       "    </tr>\n",
       "    <tr>\n",
       "      <th>4</th>\n",
       "      <td>157.304381</td>\n",
       "      <td>0.684735</td>\n",
       "      <td>0.023383</td>\n",
       "      <td>0.006355</td>\n",
       "      <td>0.05</td>\n",
       "      <td>100</td>\n",
       "      <td>{'learning_rate': 0.05, 'n_estimators': 100}</td>\n",
       "      <td>0.634667</td>\n",
       "      <td>0.664962</td>\n",
       "      <td>0.649814</td>\n",
       "      <td>0.015147</td>\n",
       "      <td>13</td>\n",
       "    </tr>\n",
       "    <tr>\n",
       "      <th>5</th>\n",
       "      <td>474.911527</td>\n",
       "      <td>0.359409</td>\n",
       "      <td>0.026758</td>\n",
       "      <td>0.002157</td>\n",
       "      <td>0.05</td>\n",
       "      <td>300</td>\n",
       "      <td>{'learning_rate': 0.05, 'n_estimators': 300}</td>\n",
       "      <td>0.707071</td>\n",
       "      <td>0.764846</td>\n",
       "      <td>0.735958</td>\n",
       "      <td>0.028887</td>\n",
       "      <td>10</td>\n",
       "    </tr>\n",
       "    <tr>\n",
       "      <th>6</th>\n",
       "      <td>810.420130</td>\n",
       "      <td>4.380937</td>\n",
       "      <td>0.053709</td>\n",
       "      <td>0.005731</td>\n",
       "      <td>0.05</td>\n",
       "      <td>500</td>\n",
       "      <td>{'learning_rate': 0.05, 'n_estimators': 500}</td>\n",
       "      <td>0.769231</td>\n",
       "      <td>0.767059</td>\n",
       "      <td>0.768145</td>\n",
       "      <td>0.001086</td>\n",
       "      <td>7</td>\n",
       "    </tr>\n",
       "    <tr>\n",
       "      <th>7</th>\n",
       "      <td>1611.834741</td>\n",
       "      <td>7.562440</td>\n",
       "      <td>0.075313</td>\n",
       "      <td>0.002520</td>\n",
       "      <td>0.05</td>\n",
       "      <td>1000</td>\n",
       "      <td>{'learning_rate': 0.05, 'n_estimators': 1000}</td>\n",
       "      <td>0.806527</td>\n",
       "      <td>0.777778</td>\n",
       "      <td>0.792152</td>\n",
       "      <td>0.014375</td>\n",
       "      <td>3</td>\n",
       "    </tr>\n",
       "    <tr>\n",
       "      <th>8</th>\n",
       "      <td>164.998429</td>\n",
       "      <td>0.321718</td>\n",
       "      <td>0.029505</td>\n",
       "      <td>0.010815</td>\n",
       "      <td>0.1</td>\n",
       "      <td>100</td>\n",
       "      <td>{'learning_rate': 0.1, 'n_estimators': 100}</td>\n",
       "      <td>0.707921</td>\n",
       "      <td>0.737349</td>\n",
       "      <td>0.722635</td>\n",
       "      <td>0.014714</td>\n",
       "      <td>11</td>\n",
       "    </tr>\n",
       "    <tr>\n",
       "      <th>9</th>\n",
       "      <td>491.527941</td>\n",
       "      <td>0.301794</td>\n",
       "      <td>0.036839</td>\n",
       "      <td>0.004156</td>\n",
       "      <td>0.1</td>\n",
       "      <td>300</td>\n",
       "      <td>{'learning_rate': 0.1, 'n_estimators': 300}</td>\n",
       "      <td>0.761446</td>\n",
       "      <td>0.769953</td>\n",
       "      <td>0.765699</td>\n",
       "      <td>0.004254</td>\n",
       "      <td>8</td>\n",
       "    </tr>\n",
       "    <tr>\n",
       "      <th>10</th>\n",
       "      <td>796.975192</td>\n",
       "      <td>4.204044</td>\n",
       "      <td>0.031985</td>\n",
       "      <td>0.007740</td>\n",
       "      <td>0.1</td>\n",
       "      <td>500</td>\n",
       "      <td>{'learning_rate': 0.1, 'n_estimators': 500}</td>\n",
       "      <td>0.776471</td>\n",
       "      <td>0.773585</td>\n",
       "      <td>0.775028</td>\n",
       "      <td>0.001443</td>\n",
       "      <td>6</td>\n",
       "    </tr>\n",
       "    <tr>\n",
       "      <th>11</th>\n",
       "      <td>1447.564796</td>\n",
       "      <td>14.134758</td>\n",
       "      <td>0.044723</td>\n",
       "      <td>0.013210</td>\n",
       "      <td>0.1</td>\n",
       "      <td>1000</td>\n",
       "      <td>{'learning_rate': 0.1, 'n_estimators': 1000}</td>\n",
       "      <td>0.803695</td>\n",
       "      <td>0.787736</td>\n",
       "      <td>0.795715</td>\n",
       "      <td>0.007980</td>\n",
       "      <td>2</td>\n",
       "    </tr>\n",
       "    <tr>\n",
       "      <th>12</th>\n",
       "      <td>147.964159</td>\n",
       "      <td>1.365851</td>\n",
       "      <td>0.021631</td>\n",
       "      <td>0.011547</td>\n",
       "      <td>0.2</td>\n",
       "      <td>100</td>\n",
       "      <td>{'learning_rate': 0.2, 'n_estimators': 100}</td>\n",
       "      <td>0.736585</td>\n",
       "      <td>0.743961</td>\n",
       "      <td>0.740273</td>\n",
       "      <td>0.003688</td>\n",
       "      <td>9</td>\n",
       "    </tr>\n",
       "    <tr>\n",
       "      <th>13</th>\n",
       "      <td>473.469028</td>\n",
       "      <td>1.208029</td>\n",
       "      <td>0.033485</td>\n",
       "      <td>0.002094</td>\n",
       "      <td>0.2</td>\n",
       "      <td>300</td>\n",
       "      <td>{'learning_rate': 0.2, 'n_estimators': 300}</td>\n",
       "      <td>0.790588</td>\n",
       "      <td>0.769953</td>\n",
       "      <td>0.780271</td>\n",
       "      <td>0.010318</td>\n",
       "      <td>5</td>\n",
       "    </tr>\n",
       "    <tr>\n",
       "      <th>14</th>\n",
       "      <td>786.465246</td>\n",
       "      <td>3.060234</td>\n",
       "      <td>0.023871</td>\n",
       "      <td>0.002813</td>\n",
       "      <td>0.2</td>\n",
       "      <td>500</td>\n",
       "      <td>{'learning_rate': 0.2, 'n_estimators': 500}</td>\n",
       "      <td>0.795349</td>\n",
       "      <td>0.778555</td>\n",
       "      <td>0.786952</td>\n",
       "      <td>0.008397</td>\n",
       "      <td>4</td>\n",
       "    </tr>\n",
       "    <tr>\n",
       "      <th>15</th>\n",
       "      <td>1185.127785</td>\n",
       "      <td>1.345574</td>\n",
       "      <td>0.040715</td>\n",
       "      <td>0.003195</td>\n",
       "      <td>0.2</td>\n",
       "      <td>1000</td>\n",
       "      <td>{'learning_rate': 0.2, 'n_estimators': 1000}</td>\n",
       "      <td>0.803653</td>\n",
       "      <td>0.789838</td>\n",
       "      <td>0.796746</td>\n",
       "      <td>0.006907</td>\n",
       "      <td>1</td>\n",
       "    </tr>\n",
       "  </tbody>\n",
       "</table>\n",
       "</div>"
      ],
      "text/plain": [
       "    mean_fit_time  std_fit_time  mean_score_time  std_score_time  \\\n",
       "0      158.435803      0.602502         0.019482        0.005286   \n",
       "1      471.684873      0.332610         0.029702        0.000505   \n",
       "2      808.876536     20.309863         0.054856        0.008626   \n",
       "3     1588.213742      9.315773         0.150089        0.008987   \n",
       "4      157.304381      0.684735         0.023383        0.006355   \n",
       "5      474.911527      0.359409         0.026758        0.002157   \n",
       "6      810.420130      4.380937         0.053709        0.005731   \n",
       "7     1611.834741      7.562440         0.075313        0.002520   \n",
       "8      164.998429      0.321718         0.029505        0.010815   \n",
       "9      491.527941      0.301794         0.036839        0.004156   \n",
       "10     796.975192      4.204044         0.031985        0.007740   \n",
       "11    1447.564796     14.134758         0.044723        0.013210   \n",
       "12     147.964159      1.365851         0.021631        0.011547   \n",
       "13     473.469028      1.208029         0.033485        0.002094   \n",
       "14     786.465246      3.060234         0.023871        0.002813   \n",
       "15    1185.127785      1.345574         0.040715        0.003195   \n",
       "\n",
       "   param_learning_rate param_n_estimators  \\\n",
       "0                 0.01                100   \n",
       "1                 0.01                300   \n",
       "2                 0.01                500   \n",
       "3                 0.01               1000   \n",
       "4                 0.05                100   \n",
       "5                 0.05                300   \n",
       "6                 0.05                500   \n",
       "7                 0.05               1000   \n",
       "8                  0.1                100   \n",
       "9                  0.1                300   \n",
       "10                 0.1                500   \n",
       "11                 0.1               1000   \n",
       "12                 0.2                100   \n",
       "13                 0.2                300   \n",
       "14                 0.2                500   \n",
       "15                 0.2               1000   \n",
       "\n",
       "                                           params  split0_test_score  \\\n",
       "0    {'learning_rate': 0.01, 'n_estimators': 100}           0.309278   \n",
       "1    {'learning_rate': 0.01, 'n_estimators': 300}           0.559322   \n",
       "2    {'learning_rate': 0.01, 'n_estimators': 500}           0.638522   \n",
       "3   {'learning_rate': 0.01, 'n_estimators': 1000}           0.693671   \n",
       "4    {'learning_rate': 0.05, 'n_estimators': 100}           0.634667   \n",
       "5    {'learning_rate': 0.05, 'n_estimators': 300}           0.707071   \n",
       "6    {'learning_rate': 0.05, 'n_estimators': 500}           0.769231   \n",
       "7   {'learning_rate': 0.05, 'n_estimators': 1000}           0.806527   \n",
       "8     {'learning_rate': 0.1, 'n_estimators': 100}           0.707921   \n",
       "9     {'learning_rate': 0.1, 'n_estimators': 300}           0.761446   \n",
       "10    {'learning_rate': 0.1, 'n_estimators': 500}           0.776471   \n",
       "11   {'learning_rate': 0.1, 'n_estimators': 1000}           0.803695   \n",
       "12    {'learning_rate': 0.2, 'n_estimators': 100}           0.736585   \n",
       "13    {'learning_rate': 0.2, 'n_estimators': 300}           0.790588   \n",
       "14    {'learning_rate': 0.2, 'n_estimators': 500}           0.795349   \n",
       "15   {'learning_rate': 0.2, 'n_estimators': 1000}           0.803653   \n",
       "\n",
       "    split1_test_score  mean_test_score  std_test_score  rank_test_score  \n",
       "0            0.270833         0.290056        0.019223               16  \n",
       "1            0.589532         0.574427        0.015105               15  \n",
       "2            0.658031         0.648277        0.009754               14  \n",
       "3            0.714286         0.703978        0.010307               12  \n",
       "4            0.664962         0.649814        0.015147               13  \n",
       "5            0.764846         0.735958        0.028887               10  \n",
       "6            0.767059         0.768145        0.001086                7  \n",
       "7            0.777778         0.792152        0.014375                3  \n",
       "8            0.737349         0.722635        0.014714               11  \n",
       "9            0.769953         0.765699        0.004254                8  \n",
       "10           0.773585         0.775028        0.001443                6  \n",
       "11           0.787736         0.795715        0.007980                2  \n",
       "12           0.743961         0.740273        0.003688                9  \n",
       "13           0.769953         0.780271        0.010318                5  \n",
       "14           0.778555         0.786952        0.008397                4  \n",
       "15           0.789838         0.796746        0.006907                1  "
      ]
     },
     "metadata": {},
     "output_type": "display_data"
    }
   ],
   "source": [
    "cvgs_results = pd.DataFrame(search.cv_results_)\n",
    "display(cvgs_results)"
   ]
  },
  {
   "cell_type": "code",
   "execution_count": 8,
   "id": "4db36869-2a45-4bed-9684-c3e40c22682c",
   "metadata": {},
   "outputs": [
    {
     "data": {
      "text/html": [
       "<style>#sk-container-id-2 {color: black;}#sk-container-id-2 pre{padding: 0;}#sk-container-id-2 div.sk-toggleable {background-color: white;}#sk-container-id-2 label.sk-toggleable__label {cursor: pointer;display: block;width: 100%;margin-bottom: 0;padding: 0.3em;box-sizing: border-box;text-align: center;}#sk-container-id-2 label.sk-toggleable__label-arrow:before {content: \"▸\";float: left;margin-right: 0.25em;color: #696969;}#sk-container-id-2 label.sk-toggleable__label-arrow:hover:before {color: black;}#sk-container-id-2 div.sk-estimator:hover label.sk-toggleable__label-arrow:before {color: black;}#sk-container-id-2 div.sk-toggleable__content {max-height: 0;max-width: 0;overflow: hidden;text-align: left;background-color: #f0f8ff;}#sk-container-id-2 div.sk-toggleable__content pre {margin: 0.2em;color: black;border-radius: 0.25em;background-color: #f0f8ff;}#sk-container-id-2 input.sk-toggleable__control:checked~div.sk-toggleable__content {max-height: 200px;max-width: 100%;overflow: auto;}#sk-container-id-2 input.sk-toggleable__control:checked~label.sk-toggleable__label-arrow:before {content: \"▾\";}#sk-container-id-2 div.sk-estimator input.sk-toggleable__control:checked~label.sk-toggleable__label {background-color: #d4ebff;}#sk-container-id-2 div.sk-label input.sk-toggleable__control:checked~label.sk-toggleable__label {background-color: #d4ebff;}#sk-container-id-2 input.sk-hidden--visually {border: 0;clip: rect(1px 1px 1px 1px);clip: rect(1px, 1px, 1px, 1px);height: 1px;margin: -1px;overflow: hidden;padding: 0;position: absolute;width: 1px;}#sk-container-id-2 div.sk-estimator {font-family: monospace;background-color: #f0f8ff;border: 1px dotted black;border-radius: 0.25em;box-sizing: border-box;margin-bottom: 0.5em;}#sk-container-id-2 div.sk-estimator:hover {background-color: #d4ebff;}#sk-container-id-2 div.sk-parallel-item::after {content: \"\";width: 100%;border-bottom: 1px solid gray;flex-grow: 1;}#sk-container-id-2 div.sk-label:hover label.sk-toggleable__label {background-color: #d4ebff;}#sk-container-id-2 div.sk-serial::before {content: \"\";position: absolute;border-left: 1px solid gray;box-sizing: border-box;top: 0;bottom: 0;left: 50%;z-index: 0;}#sk-container-id-2 div.sk-serial {display: flex;flex-direction: column;align-items: center;background-color: white;padding-right: 0.2em;padding-left: 0.2em;position: relative;}#sk-container-id-2 div.sk-item {position: relative;z-index: 1;}#sk-container-id-2 div.sk-parallel {display: flex;align-items: stretch;justify-content: center;background-color: white;position: relative;}#sk-container-id-2 div.sk-item::before, #sk-container-id-2 div.sk-parallel-item::before {content: \"\";position: absolute;border-left: 1px solid gray;box-sizing: border-box;top: 0;bottom: 0;left: 50%;z-index: -1;}#sk-container-id-2 div.sk-parallel-item {display: flex;flex-direction: column;z-index: 1;position: relative;background-color: white;}#sk-container-id-2 div.sk-parallel-item:first-child::after {align-self: flex-end;width: 50%;}#sk-container-id-2 div.sk-parallel-item:last-child::after {align-self: flex-start;width: 50%;}#sk-container-id-2 div.sk-parallel-item:only-child::after {width: 0;}#sk-container-id-2 div.sk-dashed-wrapped {border: 1px dashed gray;margin: 0 0.4em 0.5em 0.4em;box-sizing: border-box;padding-bottom: 0.4em;background-color: white;}#sk-container-id-2 div.sk-label label {font-family: monospace;font-weight: bold;display: inline-block;line-height: 1.2em;}#sk-container-id-2 div.sk-label-container {text-align: center;}#sk-container-id-2 div.sk-container {/* jupyter's `normalize.less` sets `[hidden] { display: none; }` but bootstrap.min.css set `[hidden] { display: none !important; }` so we also need the `!important` here to be able to override the default hidden behavior on the sphinx rendered scikit-learn.org. See: https://github.com/scikit-learn/scikit-learn/issues/21755 */display: inline-block !important;position: relative;}#sk-container-id-2 div.sk-text-repr-fallback {display: none;}</style><div id=\"sk-container-id-2\" class=\"sk-top-container\"><div class=\"sk-text-repr-fallback\"><pre>GradientBoostingClassifier(learning_rate=0.2, n_estimators=1000)</pre><b>In a Jupyter environment, please rerun this cell to show the HTML representation or trust the notebook. <br />On GitHub, the HTML representation is unable to render, please try loading this page with nbviewer.org.</b></div><div class=\"sk-container\" hidden><div class=\"sk-item\"><div class=\"sk-estimator sk-toggleable\"><input class=\"sk-toggleable__control sk-hidden--visually\" id=\"sk-estimator-id-4\" type=\"checkbox\" checked><label for=\"sk-estimator-id-4\" class=\"sk-toggleable__label sk-toggleable__label-arrow\">GradientBoostingClassifier</label><div class=\"sk-toggleable__content\"><pre>GradientBoostingClassifier(learning_rate=0.2, n_estimators=1000)</pre></div></div></div></div></div>"
      ],
      "text/plain": [
       "GradientBoostingClassifier(learning_rate=0.2, n_estimators=1000)"
      ]
     },
     "execution_count": 8,
     "metadata": {},
     "output_type": "execute_result"
    }
   ],
   "source": [
    "model_optimised = GradientBoostingClassifier(**search.best_params_)\n",
    "model_optimised.fit(train_features, train_anon_bool)"
   ]
  },
  {
   "cell_type": "code",
   "execution_count": 9,
   "id": "2a2d4483-6aae-4953-b085-ffa9cdb81fdf",
   "metadata": {},
   "outputs": [
    {
     "name": "stdout",
     "output_type": "stream",
     "text": [
      "Optimised Model Accuracy: 0.8174133229450721\n",
      "Optimised Model F1 Score: 0.5531509200114406\n"
     ]
    }
   ],
   "source": [
    "print(\"Optimised Model Accuracy:\", model_optimised.score(test_features, test_anon_bool))\n",
    "print(\"Optimised Model F1 Score:\", metrics.f1_score(test_anon_bool, model_optimised.predict(test_features)))"
   ]
  },
  {
   "cell_type": "code",
   "execution_count": 12,
   "id": "265ca329-6a0f-45bc-a559-429b3361b78d",
   "metadata": {},
   "outputs": [
    {
     "data": {
      "text/plain": [
       "Text(0.5, 1.0, 'Static R3D-CNN with Gradient Boosting Classifier')"
      ]
     },
     "execution_count": 12,
     "metadata": {},
     "output_type": "execute_result"
    },
    {
     "data": {
      "image/png": "[encoded data removed]",
      "text/plain": [
       "<Figure size 640x480 with 2 Axes>"
      ]
     },
     "metadata": {},
     "output_type": "display_data"
    }
   ],
   "source": [
    "optimised_cm = metrics.confusion_matrix(test_anon_bool, model_optimised.predict(test_features))\n",
    "sns.heatmap(optimised_cm, annot=True)\n",
    "plt.xlabel(\"Actual\")\n",
    "plt.ylabel(\"Predicted\")\n",
    "plt.title(\"Static R3D-CNN with Gradient Boosting Classifier\")"
   ]
  },
  {
   "cell_type": "code",
   "execution_count": null,
   "id": "a20be422-bc12-4d40-998a-3a9388a9f48f",
   "metadata": {},
   "outputs": [],
   "source": []
  }
 ],
 "metadata": {
  "kernelspec": {
   "display_name": "Python 3 (ipykernel)",
   "language": "python",
   "name": "python3"
  },
  "language_info": {
   "codemirror_mode": {
    "name": "ipython",
    "version": 3
   },
   "file_extension": ".py",
   "mimetype": "text/x-python",
   "name": "python",
   "nbconvert_exporter": "python",
   "pygments_lexer": "ipython3",
   "version": "3.11.4"
  }
 },
 "nbformat": 4,
 "nbformat_minor": 5
}
