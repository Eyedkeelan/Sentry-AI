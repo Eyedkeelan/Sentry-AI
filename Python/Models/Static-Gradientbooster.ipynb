{
 "cells": [
  {
   "cell_type": "code",
   "execution_count": 30,
   "id": "1a75c2c3-089a-4f63-b8a5-de1e4fa340f1",
   "metadata": {
    "scrolled": true
   },
   "outputs": [
    {
     "name": "stdout",
     "output_type": "stream",
     "text": [
      "cpu\n"
     ]
    },
    {
     "name": "stderr",
     "output_type": "stream",
     "text": [
      "47880it [00:11, 4301.73it/s]\n",
      "5321it [00:01, 5129.60it/s]\n",
      "25670it [00:04, 5311.94it/s]\n"
     ]
    }
   ],
   "source": [
    "import os\n",
    "import pandas as pd \n",
    "import numpy as np \n",
    "from tqdm import tqdm\n",
    "import torch\n",
    "from torch import nn, optim\n",
    "from torch.utils.data import Dataset, DataLoader\n",
    "from sklearn.preprocessing import LabelEncoder\n",
    "from sklearn.model_selection import train_test_split\n",
    "from matplotlib import pyplot as plt\n",
    "\n",
    "\n",
    "BASE_DIR = r\"C:\\Users\\Keelan.Butler\\Desktop\\python_projects\\Final Project\"\n",
    "device = torch.device(\"cuda\" if torch.cuda.is_available() else \"cpu\")\n",
    "print(device)\n",
    "ROUTE_DIR = r\"C:\\Users\\Keelan.Butler\\Desktop\\python_projects\\Final Project\"\n",
    "DATA_DIR = os.path.join(ROUTE_DIR,\"Sentry-AI\",\"Python\")\n",
    "FEATURE_PATH = os.path.join(BASE_DIR,\"Dataset\",\"features\")\n",
    "os.chdir(DATA_DIR)\n",
    "df_train, df_test = pd.read_csv('Train_set.csv'),pd.read_csv('Test_set.csv')\n",
    "# load features \n",
    "df_train_new, df_val = train_test_split(df_train, test_size=0.1, stratify=df_train['Anomaly_Type'], random_state=42)\n",
    "\n",
    "def load_features(dataframe):\n",
    "    \"\"\"Function extracts features from dataframe and processes them for modelling.\n",
    "    returns: features, anomaly, anomaly_bool, frame_number\n",
    "    Arg:\n",
    "    - dataframe: This will be our test/train dataset. \n",
    "    Returns: \n",
    "    - Features: Loaded features from corresponding npy file. \n",
    "    - anon_type: A break down on what anomaly has occured, otherwise Normal. \n",
    "    - anon_bool: A boolean of anomaly occurance.\n",
    "    - start_frame: List of the corresponding final frame of the sliding window\n",
    "    - end_frame: List of the corresponding final frame of the sliding window\n",
    "    - video_names: List of video names, this enables up to partition by videos.\n",
    "    \"\"\"\n",
    "    features = []\n",
    "    anon_type = []\n",
    "    anon_bool = []\n",
    "    start_index = []\n",
    "    end_index = []\n",
    "    video_names = []\n",
    "    for path,subdir, label, lab_bool, clip_start, clip_end, video_name in tqdm(zip(dataframe['feature_path'],dataframe['subfolder'], dataframe['Anomaly_Type'], dataframe['Anomaly'], dataframe['Start_of_Clip'], dataframe['End_of_Clip'], dataframe['name'])):\n",
    "        feature = np.load(os.path.join(FEATURE_PATH,subdir,path)) # Accesses the relevant path through our relational database \n",
    "        features.append(feature) # List of loaded npy features.\n",
    "        anon_type.append(label) # List of type of anomalies. \n",
    "        anon_bool.append(lab_bool) # 1 for anomaly, 0 for normal.\n",
    "        video_names.append(video_name) # List of video names.\n",
    "        start_index.append(clip_start) # List of clip start frame\n",
    "        end_index.append(clip_end) # List of clip start frame\n",
    "    return features, anon_type, anon_bool, start_index,end_index, video_names\n",
    "\n",
    "train_features, train_anon_type, train_anon_bool, train_start_index,train_end_index, train_video_names = load_features(df_train_new)\n",
    "val_features, val_anon_type, val_anon_bool, val_start_index,val_end_index, val_video_names = load_features(df_val)\n",
    "test_features, test_anon_type, test_anon_bool, test_start_index, test_end_index, test_video_names = load_features(df_test)\n",
    "\n",
    "l_encoder = LabelEncoder()\n",
    "train_anon_type = l_encoder.fit_transform(train_anon_type)\n",
    "val_anon_type = l_encoder.transform(val_anon_type)\n",
    "test_anon_type = l_encoder.transform(test_anon_type)\n",
    "\n",
    "class CLIP_DATA(Dataset):\n",
    "    \"\"\"Dataset class for clip-based video anomaly detection\"\"\"\n",
    "\n",
    "    def __init__(self, features, anon_label, anon_bool):\n",
    "        self.features = [torch.from_numpy(arr).float() for arr in features]  # Convert once\n",
    "        self.anon_label = torch.tensor(anon_label, dtype=torch.long)  # Label-encoded anomaly type\n",
    "        self.anon_bool = torch.tensor(anon_bool, dtype=torch.float32)  # Binary anomaly indicator (0 or 1)\n",
    "\n",
    "    def __len__(self):\n",
    "        return len(self.features)\n",
    "\n",
    "    def __getitem__(self, idx):\n",
    "        return self.features[idx], self.anon_label[idx], self.anon_bool[idx]\n",
    "\n",
    "\n",
    "training_data = CLIP_DATA(train_features, train_anon_type, train_anon_bool)\n",
    "validation_data = CLIP_DATA(val_features, val_anon_type, val_anon_bool)\n",
    "test_data = CLIP_DATA(test_features, test_anon_type, test_anon_bool)\n",
    "\n",
    "train_dataloader = DataLoader(training_data, batch_size=64, shuffle=True)\n",
    "validation_dataloader = DataLoader(training_data, batch_size=64, shuffle=True)\n",
    "test_dataloader = DataLoader(test_data, batch_size=64, shuffle=True)\n",
    "\n"
   ]
  },
  {
   "cell_type": "code",
   "execution_count": 50,
   "id": "81947217-fe5a-4224-a3d6-9dd2fc52a45b",
   "metadata": {
    "scrolled": true
   },
   "outputs": [],
   "source": [
    "class AnomalyANN(nn.Module):\n",
    "    \"\"\"A feed forwards Neural Network to perform classification on the \n",
    "    spacial temporal data.\"\"\"\n",
    "\n",
    "    def __init__(self, input_size = 512, hidden_size = 1024, output_size = 1):\n",
    "        super().__init__()\n",
    "        self.relu = nn.ReLU()\n",
    "        self.dropout = nn.Dropout(0.3)\n",
    "        self.fc1 = nn.Linear(input_size, hidden_size)\n",
    "        self.fc2 = nn.Linear(hidden_size,int(hidden_size/2))\n",
    "        self.fc3 = nn.Linear(int(hidden_size/2), output_size)\n",
    "        self.sigmoid = nn.Sigmoid()\n",
    "\n",
    "    def forward(self,x):\n",
    "        x = self.relu(self.fc1(x))\n",
    "        x = self.dropout(x)\n",
    "        x = self.relu(self.fc2(x))\n",
    "        x = self.dropout(x)\n",
    "        x = self.sigmoid(self.fc3(x))\n",
    "        return x"
   ]
  },
  {
   "cell_type": "code",
   "execution_count": 51,
   "id": "ec63477c-2257-446c-8191-5e62c1a420f9",
   "metadata": {
    "scrolled": true
   },
   "outputs": [
    {
     "name": "stderr",
     "output_type": "stream",
     "text": [
      "100%|████████████████████████████████████████████████████████████████████████████████████████████████████████████| 5/5 [01:40<00:00, 20.18s/it]\n"
     ]
    },
    {
     "data": {
      "image/png": "[encoded data removed]",
      "text/plain": [
       "<Figure size 640x480 with 1 Axes>"
      ]
     },
     "metadata": {},
     "output_type": "display_data"
    }
   ],
   "source": [
    "epochs = 5\n",
    "loss_list = np.zeros((2, epochs))  # Store training & validation loss\n",
    "model = AnomalyANN().to(device)  # Ensure model is on the correct device\n",
    "criterion = nn.BCELoss()\n",
    "optimizer = optim.Adam(model.parameters(), lr=0.001)\n",
    "\n",
    "for epoch in tqdm(range(epochs)):  # Loop through epochs\n",
    "    model.train()  # Set model to training mode\n",
    "    total_loss = 0\n",
    "\n",
    "    for batch in train_dataloader:\n",
    "        features, _, labels = batch  # Extract features and labels\n",
    "        features, labels = features.to(device), labels.to(device).unsqueeze(1)  # Move to device & reshape labels\n",
    "\n",
    "        optimizer.zero_grad()  # Reset gradients\n",
    "        outputs = model(features)  # Forward pass\n",
    "        loss = criterion(outputs, labels.float())  # Compute loss\n",
    "        loss.backward()  # Backpropagation\n",
    "        optimizer.step()  # Update weights\n",
    "\n",
    "        total_loss += loss.item()\n",
    "\n",
    "    avg_loss = total_loss / len(train_dataloader)\n",
    "    loss_list[0, epoch] = avg_loss  # Store training loss\n",
    "\n",
    "    # Validation Step\n",
    "    model.eval()  # Set model to evaluation mode\n",
    "    test_total = 0  # Initialize test loss accumulator\n",
    "\n",
    "    with torch.no_grad():  # Disable gradients for validation\n",
    "        for test_batch in test_dataloader:\n",
    "            test_features, _, test_labels = test_batch\n",
    "            test_features, test_labels = test_features.to(device), test_labels.to(device).unsqueeze(1)\n",
    "\n",
    "            test_outputs = model(test_features)\n",
    "            test_loss = criterion(test_outputs, test_labels.float())\n",
    "            test_total += test_loss.item()  # Accumulate test loss\n",
    "\n",
    "    avg_test_loss = test_total / len(test_dataloader)\n",
    "    loss_list[1, epoch] = avg_test_loss  # Store validation loss\n",
    "\n",
    "    #print(f\"Epoch [{epoch+1}/{epochs}] - Train Loss: {avg_loss:.4f}, Test Loss: {avg_test_loss:.4f}\")\n",
    "\n",
    "# Plot Training vs Testing Loss\n",
    "plt.plot(range(epochs), loss_list[0], label=\"Training Loss\")\n",
    "plt.plot(range(epochs), loss_list[1], label=\"Testing Loss\")\n",
    "plt.xlabel(\"Epochs\")\n",
    "plt.ylabel(\"Loss\")\n",
    "plt.legend()\n",
    "plt.title(\"Training vs Testing Loss\")\n",
    "plt.show()\n"
   ]
  },
  {
   "cell_type": "code",
   "execution_count": null,
   "id": "aea71f77-b07a-4d01-b0c6-9bf319088b56",
   "metadata": {},
   "outputs": [],
   "source": [
    "gra"
   ]
  }
 ],
 "metadata": {
  "kernelspec": {
   "display_name": "Python 3 (ipykernel)",
   "language": "python",
   "name": "python3"
  },
  "language_info": {
   "codemirror_mode": {
    "name": "ipython",
    "version": 3
   },
   "file_extension": ".py",
   "mimetype": "text/x-python",
   "name": "python",
   "nbconvert_exporter": "python",
   "pygments_lexer": "ipython3",
   "version": "3.11.4"
  }
 },
 "nbformat": 4,
 "nbformat_minor": 5
}
