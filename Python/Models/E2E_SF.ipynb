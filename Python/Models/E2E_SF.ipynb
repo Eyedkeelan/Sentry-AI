{
 "cells": [
  {
   "cell_type": "code",
   "execution_count": 27,
   "id": "ea6ac8b6-0d59-458e-8a27-8998021bc1cb",
   "metadata": {},
   "outputs": [],
   "source": [
    "# END2END RESNET \n",
    "import os\n",
    "import pandas as pd \n",
    "import numpy as np \n",
    "from tqdm import tqdm\n",
    "import torch\n",
    "from torch import nn, optim\n",
    "import torch.nn.functional as F\n",
    "from torchvision import models, transforms\n",
    "from torch.utils.data import Dataset, DataLoader\n",
    "from sklearn.preprocessing import LabelEncoder\n",
    "from sklearn.model_selection import train_test_split, GridSearchCV\n",
    "from sklearn import metrics\n",
    "from matplotlib import pyplot as plt\n",
    "from sklearn.ensemble import GradientBoostingClassifier\n",
    "import seaborn as sns\n",
    "import cv2\n",
    "from PIL import Image\n"
   ]
  },
  {
   "cell_type": "code",
   "execution_count": 28,
   "id": "800919cf-1114-498f-97af-cb141b5e8e19",
   "metadata": {},
   "outputs": [],
   "source": [
    "FRAME_INTERVAL = 5  # Capture every 5th frame\n",
    "CLIP_LENGTH = 16  # Number of frames per clip for 3D CNN\n",
    "FRAME_HEIGHT, FRAME_WIDTH = 224, 224  # r3d_18 with input 112x112 Slowfast 224x224"
   ]
  },
  {
   "cell_type": "code",
   "execution_count": 29,
   "id": "ded568fa-5734-4df6-8b88-568bfd87abde",
   "metadata": {},
   "outputs": [],
   "source": [
    "VIDEO_DIR = r\"C:\\Users\\Keelan.Butler\\Desktop\\python_projects\\Final Project\\OneDrive_2025-01-30\\MSAD Dataset\\MSAD_blur\"\n",
    "SAVE_DIR = r\"C:\\Users\\Keelan.Butler\\Desktop\\python_projects\\Final Project\\Processed_Frames\"\n",
    "Anomaly_dir = r\"C:\\Users\\Keelan.Butler\\Desktop\\python_projects\\Final Project\\OneDrive_2025-01-30\\MSAD Dataset\\anomaly_annotation.csv\""
   ]
  },
  {
   "cell_type": "code",
   "execution_count": 30,
   "id": "2dc273bb-4e46-46ed-aced-3a5ce30187be",
   "metadata": {},
   "outputs": [],
   "source": [
    "transform = transforms.Compose([\n",
    "        transforms.ToPILImage(),\n",
    "        transforms.Resize((FRAME_HEIGHT, FRAME_WIDTH)), \n",
    "        transforms.ToTensor(),\n",
    "        transforms.Normalize(mean=[0.485, 0.456, 0.406], std=[0.229, 0.224, 0.225])  # Normalising the features\n",
    "    ])"
   ]
  },
  {
   "cell_type": "code",
   "execution_count": 31,
   "id": "d85cdf18-899d-4bad-a756-6f9c9c022b76",
   "metadata": {},
   "outputs": [
    {
     "name": "stdout",
     "output_type": "stream",
     "text": [
      "Anomalies: {'Traffic', 'Water', 'Object', 'Fire', 'People', 'Shooting', 'Vandalism', 'Fighting', 'Robbery', 'Explosion', 'Assault'}\n"
     ]
    }
   ],
   "source": [
    "Anomaly_data = pd.read_csv(Anomaly_dir)\n",
    "anomalies = set([anon.split(\"_\")[0] for anon in Anomaly_data.name.values])\n",
    "print(f'Anomalies: {anomalies}')\n",
    "\n",
    "anno_names = Anomaly_data.name.values.tolist()\n",
    "anno_start = Anomaly_data['starting frame of anomaly'].values.tolist()\n",
    "anno_end = Anomaly_data['ending frame of anomaly'].values.tolist()"
   ]
  },
  {
   "cell_type": "code",
   "execution_count": 32,
   "id": "ca535937-6d07-43e0-ab25-9cd93b8fe012",
   "metadata": {},
   "outputs": [],
   "source": [
    "# Save directory for extracted frames\n",
    "\n",
    "def extract_and_save_frames(video_path, save_dir, frame_interval=5):\n",
    "    cap = cv2.VideoCapture(video_path)\n",
    "    video_name = os.path.splitext(os.path.basename(video_path))[0]\n",
    "    save_folder = os.path.join(save_dir, video_name)\n",
    "    os.makedirs(save_folder, exist_ok=True)\n",
    "\n",
    "    frame_count = 0\n",
    "    saved_count = 0\n",
    "    \n",
    "    while cap.isOpened():\n",
    "        ret, frame = cap.read()\n",
    "        if not ret:\n",
    "            break  # End of video\n",
    "\n",
    "        if frame_count % frame_interval == 0:\n",
    "            # Convert BGR (OpenCV) to RGB (PIL)\n",
    "            frame = cv2.cvtColor(frame, cv2.COLOR_BGR2RGB)\n",
    "\n",
    "            # Apply transformations\n",
    "            frame = transform(frame)  # Now it's a Tensor (C, H, W)\n",
    "\n",
    "            # Convert back to PIL image to save\n",
    "            frame = transforms.ToPILImage()(frame)\n",
    "\n",
    "            # Save frame as JPEG\n",
    "            frame_path = os.path.join(save_folder, f\"frame_{saved_count:04d}.jpg\")\n",
    "            frame.save(frame_path, \"JPEG\")\n",
    "            saved_count += 1 \n",
    "\n",
    "        frame_count += 1\n",
    "    \n",
    "    cap.release()"
   ]
  },
  {
   "cell_type": "code",
   "execution_count": 8,
   "id": "2169e237-6fe1-4d1c-a871-d31e7f19942d",
   "metadata": {},
   "outputs": [
    {
     "name": "stderr",
     "output_type": "stream",
     "text": [
      "Extracting Frames C:\\Users\\Keelan.Butler\\Desktop\\python_projects\\Final Project\\OneDrive_2025-01-30\\MSAD Dataset\\MSAD_blur: 0it [00:00, ?it/s]\n",
      "Extracting Frames C:\\Users\\Keelan.Butler\\Desktop\\python_projects\\Final Project\\OneDrive_2025-01-30\\MSAD Dataset\\MSAD_blur\\MSAD_anomaly_blur: 0it [00:00, ?it/s]\n",
      "Extracting Frames C:\\Users\\Keelan.Butler\\Desktop\\python_projects\\Final Project\\OneDrive_2025-01-30\\MSAD Dataset\\MSAD_blur\\MSAD_anomaly_blur\\Ass\n",
      "Extracting Frames C:\\Users\\Keelan.Butler\\Desktop\\python_projects\\Final Project\\OneDrive_2025-01-30\\MSAD Dataset\\MSAD_blur\\MSAD_anomaly_blur\\Exp\n",
      "Extracting Frames C:\\Users\\Keelan.Butler\\Desktop\\python_projects\\Final Project\\OneDrive_2025-01-30\\MSAD Dataset\\MSAD_blur\\MSAD_anomaly_blur\\Fig\n",
      "Extracting Frames C:\\Users\\Keelan.Butler\\Desktop\\python_projects\\Final Project\\OneDrive_2025-01-30\\MSAD Dataset\\MSAD_blur\\MSAD_anomaly_blur\\Fir\n",
      "Extracting Frames C:\\Users\\Keelan.Butler\\Desktop\\python_projects\\Final Project\\OneDrive_2025-01-30\\MSAD Dataset\\MSAD_blur\\MSAD_anomaly_blur\\Obj\n",
      "Extracting Frames C:\\Users\\Keelan.Butler\\Desktop\\python_projects\\Final Project\\OneDrive_2025-01-30\\MSAD Dataset\\MSAD_blur\\MSAD_anomaly_blur\\Peo\n",
      "Extracting Frames C:\\Users\\Keelan.Butler\\Desktop\\python_projects\\Final Project\\OneDrive_2025-01-30\\MSAD Dataset\\MSAD_blur\\MSAD_anomaly_blur\\Rob\n",
      "Extracting Frames C:\\Users\\Keelan.Butler\\Desktop\\python_projects\\Final Project\\OneDrive_2025-01-30\\MSAD Dataset\\MSAD_blur\\MSAD_anomaly_blur\\Sho\n",
      "Extracting Frames C:\\Users\\Keelan.Butler\\Desktop\\python_projects\\Final Project\\OneDrive_2025-01-30\\MSAD Dataset\\MSAD_blur\\MSAD_anomaly_blur\\Tra\n",
      "Extracting Frames C:\\Users\\Keelan.Butler\\Desktop\\python_projects\\Final Project\\OneDrive_2025-01-30\\MSAD Dataset\\MSAD_blur\\MSAD_anomaly_blur\\Van\n",
      "Extracting Frames C:\\Users\\Keelan.Butler\\Desktop\\python_projects\\Final Project\\OneDrive_2025-01-30\\MSAD Dataset\\MSAD_blur\\MSAD_anomaly_blur\\Wat\n",
      "Extracting Frames C:\\Users\\Keelan.Butler\\Desktop\\python_projects\\Final Project\\OneDrive_2025-01-30\\MSAD Dataset\\MSAD_blur\\MSAD_normal_testing_b\n",
      "Extracting Frames C:\\Users\\Keelan.Butler\\Desktop\\python_projects\\Final Project\\OneDrive_2025-01-30\\MSAD Dataset\\MSAD_blur\\MSAD_normal_training_videos_blur: 0it [00:00, ?it/s]\n",
      "Extracting Frames C:\\Users\\Keelan.Butler\\Desktop\\python_projects\\Final Project\\OneDrive_2025-01-30\\MSAD Dataset\\MSAD_blur\\MSAD_normal_training_\n",
      "Extracting Frames C:\\Users\\Keelan.Butler\\Desktop\\python_projects\\Final Project\\OneDrive_2025-01-30\\MSAD Dataset\\MSAD_blur\\MSAD_normal_training_\n",
      "Extracting Frames C:\\Users\\Keelan.Butler\\Desktop\\python_projects\\Final Project\\OneDrive_2025-01-30\\MSAD Dataset\\MSAD_blur\\MSAD_normal_training_\n",
      "Extracting Frames C:\\Users\\Keelan.Butler\\Desktop\\python_projects\\Final Project\\OneDrive_2025-01-30\\MSAD Dataset\\MSAD_blur\\MSAD_normal_training_\n",
      "Extracting Frames C:\\Users\\Keelan.Butler\\Desktop\\python_projects\\Final Project\\OneDrive_2025-01-30\\MSAD Dataset\\MSAD_blur\\MSAD_normal_training_\n",
      "Extracting Frames C:\\Users\\Keelan.Butler\\Desktop\\python_projects\\Final Project\\OneDrive_2025-01-30\\MSAD Dataset\\MSAD_blur\\MSAD_normal_training_\n",
      "Extracting Frames C:\\Users\\Keelan.Butler\\Desktop\\python_projects\\Final Project\\OneDrive_2025-01-30\\MSAD Dataset\\MSAD_blur\\MSAD_normal_training_\n",
      "Extracting Frames C:\\Users\\Keelan.Butler\\Desktop\\python_projects\\Final Project\\OneDrive_2025-01-30\\MSAD Dataset\\MSAD_blur\\MSAD_normal_training_\n",
      "Extracting Frames C:\\Users\\Keelan.Butler\\Desktop\\python_projects\\Final Project\\OneDrive_2025-01-30\\MSAD Dataset\\MSAD_blur\\MSAD_normal_training_\n",
      "Extracting Frames C:\\Users\\Keelan.Butler\\Desktop\\python_projects\\Final Project\\OneDrive_2025-01-30\\MSAD Dataset\\MSAD_blur\\MSAD_normal_training_\n",
      "Extracting Frames C:\\Users\\Keelan.Butler\\Desktop\\python_projects\\Final Project\\OneDrive_2025-01-30\\MSAD Dataset\\MSAD_blur\\MSAD_normal_training_\n",
      "Extracting Frames C:\\Users\\Keelan.Butler\\Desktop\\python_projects\\Final Project\\OneDrive_2025-01-30\\MSAD Dataset\\MSAD_blur\\MSAD_normal_training_\n",
      "Extracting Frames C:\\Users\\Keelan.Butler\\Desktop\\python_projects\\Final Project\\OneDrive_2025-01-30\\MSAD Dataset\\MSAD_blur\\MSAD_normal_training_\n",
      "Extracting Frames C:\\Users\\Keelan.Butler\\Desktop\\python_projects\\Final Project\\OneDrive_2025-01-30\\MSAD Dataset\\MSAD_blur\\MSAD_normal_training_\n"
     ]
    }
   ],
   "source": [
    "# My iteration through\n",
    "for root, _, files in os.walk(VIDEO_DIR):\n",
    "    for video_file in tqdm(files, desc=f\"Extracting Frames {root}\"):\n",
    "        if video_file.endswith((\".mp4\", \".avi\", \".mov\")):\n",
    "            video_path = os.path.join(root, video_file)\n",
    "            extract_and_save_frames(video_path, SAVE_DIR)"
   ]
  },
  {
   "cell_type": "code",
   "execution_count": 33,
   "id": "ba43863d-f98f-41b3-9191-93a4d40a7024",
   "metadata": {},
   "outputs": [],
   "source": [
    "anomaly = []\n",
    "anonamly_bool = []\n",
    "frame_paths = []\n",
    "frames = []\n",
    "video_names = []\n",
    "video_path = []\n",
    "import os\n",
    "for root, _, files in os.walk(SAVE_DIR):\n",
    "   for name in files:\n",
    "      frame_path = os.path.join(root, name)\n",
    "      components = frame_path.split(os.sep) \n",
    "      video_name =  components[-2]\n",
    "      frame = int(components[-1].split(\"_\")[1].split(\".\")[0]) * FRAME_INTERVAL\n",
    "      frames.append(frame)\n",
    "      video_names.append(video_name)\n",
    "      #print(video_name) \n",
    "      frame_paths.append(frame_path)\n",
    "      anom = video_name.split(\"_\")[0]\n",
    "      if anom in anomalies:\n",
    "          #print(frame,video_name)\n",
    "          pos = anno_names.index(video_name)\n",
    "          start = anno_start[pos]\n",
    "          end = anno_end[pos]\n",
    "\n",
    "          if start < frame < end: \n",
    "              anon_bool = 1 \n",
    "              anomaly_label = anom\n",
    "          else:\n",
    "              anon_bool = 0\n",
    "              anomaly_label = \"Normal\"\n",
    "         \n",
    "      else:\n",
    "          anon_bool = 0\n",
    "          anomaly_label = \"Normal\"\n",
    "      anomaly.append(anomaly_label)\n",
    "      anonamly_bool.append(anon_bool)\n",
    "\n",
    "\n",
    "metadata = pd.DataFrame({'Video':video_names,\n",
    "              'Frame':frames,\n",
    "             'Frames_path':frame_paths, \n",
    "             \"Anomaly Type\": anomaly,\n",
    "             \"Anomaly\": anonamly_bool})\n",
    "\n",
    "metadata[\"Video\"] = metadata[\"Video\"].str.replace(\"MSAD_normal_\", \"\", regex=False)"
   ]
  },
  {
   "cell_type": "code",
   "execution_count": 34,
   "id": "48eb94a2-700f-4aac-87ed-3c5d69a44b3d",
   "metadata": {},
   "outputs": [
    {
     "data": {
      "text/html": [
       "<div>\n",
       "<style scoped>\n",
       "    .dataframe tbody tr th:only-of-type {\n",
       "        vertical-align: middle;\n",
       "    }\n",
       "\n",
       "    .dataframe tbody tr th {\n",
       "        vertical-align: top;\n",
       "    }\n",
       "\n",
       "    .dataframe thead th {\n",
       "        text-align: right;\n",
       "    }\n",
       "</style>\n",
       "<table border=\"1\" class=\"dataframe\">\n",
       "  <thead>\n",
       "    <tr style=\"text-align: right;\">\n",
       "      <th></th>\n",
       "      <th>Video</th>\n",
       "      <th>partition</th>\n",
       "    </tr>\n",
       "  </thead>\n",
       "  <tbody>\n",
       "    <tr>\n",
       "      <th>0</th>\n",
       "      <td>Assault_1</td>\n",
       "      <td>Train</td>\n",
       "    </tr>\n",
       "    <tr>\n",
       "      <th>1</th>\n",
       "      <td>Assault_3</td>\n",
       "      <td>Train</td>\n",
       "    </tr>\n",
       "    <tr>\n",
       "      <th>2</th>\n",
       "      <td>Assault_5</td>\n",
       "      <td>Train</td>\n",
       "    </tr>\n",
       "    <tr>\n",
       "      <th>3</th>\n",
       "      <td>Assault_6</td>\n",
       "      <td>Train</td>\n",
       "    </tr>\n",
       "    <tr>\n",
       "      <th>4</th>\n",
       "      <td>Assault_9</td>\n",
       "      <td>Train</td>\n",
       "    </tr>\n",
       "    <tr>\n",
       "      <th>...</th>\n",
       "      <td>...</td>\n",
       "      <td>...</td>\n",
       "    </tr>\n",
       "    <tr>\n",
       "      <th>235</th>\n",
       "      <td>testing_116</td>\n",
       "      <td>Test</td>\n",
       "    </tr>\n",
       "    <tr>\n",
       "      <th>236</th>\n",
       "      <td>testing_117</td>\n",
       "      <td>Test</td>\n",
       "    </tr>\n",
       "    <tr>\n",
       "      <th>237</th>\n",
       "      <td>testing_118</td>\n",
       "      <td>Test</td>\n",
       "    </tr>\n",
       "    <tr>\n",
       "      <th>238</th>\n",
       "      <td>testing_119</td>\n",
       "      <td>Test</td>\n",
       "    </tr>\n",
       "    <tr>\n",
       "      <th>239</th>\n",
       "      <td>testing_120</td>\n",
       "      <td>Test</td>\n",
       "    </tr>\n",
       "  </tbody>\n",
       "</table>\n",
       "<p>720 rows × 2 columns</p>\n",
       "</div>"
      ],
      "text/plain": [
       "           Video partition\n",
       "0      Assault_1     Train\n",
       "1      Assault_3     Train\n",
       "2      Assault_5     Train\n",
       "3      Assault_6     Train\n",
       "4      Assault_9     Train\n",
       "..           ...       ...\n",
       "235  testing_116      Test\n",
       "236  testing_117      Test\n",
       "237  testing_118      Test\n",
       "238  testing_119      Test\n",
       "239  testing_120      Test\n",
       "\n",
       "[720 rows x 2 columns]"
      ]
     },
     "execution_count": 34,
     "metadata": {},
     "output_type": "execute_result"
    }
   ],
   "source": [
    "with open(r'C:\\Users\\Keelan.Butler\\Desktop\\python_projects\\Final Project\\OneDrive_2025-01-30\\MSAD Dataset\\MSAD_I3D_WS_Train.list') as train:\n",
    "    t = train.readlines()\n",
    "    train_list = [item.split(\"\\n\")[0].split(\"/\")[-1].replace(\"_i3d.npy\",\"\") for item in t]\n",
    "    train_label = [\"Train\"] * len(train_list)\n",
    "tr_labels = pd.DataFrame({\"Video\":train_list,\n",
    "                        \"partition\":train_label}) \n",
    "with open(r'C:\\Users\\Keelan.Butler\\Desktop\\python_projects\\Final Project\\OneDrive_2025-01-30\\MSAD Dataset\\MSAD_I3D_WS_Test.list') as test:\n",
    "    t = test.readlines()\n",
    "    test_list = [item.split(\"\\n\")[0].split(\"/\")[-1].replace(\"_i3d.npy\",\"\") for item in t]\n",
    "    test_label = [\"Test\"] * len(test_list)\n",
    "\n",
    "te_labels = pd.DataFrame({\"Video\":test_list,\n",
    "                         \"partition\":test_label})\n",
    "label_df = pd.concat([tr_labels,te_labels])\n",
    "label_df[\"Video\"] = label_df[\"Video\"].str.replace(\"MSAD_normal_\", \"\", regex=False)\n",
    "label_df"
   ]
  },
  {
   "cell_type": "code",
   "execution_count": 35,
   "id": "8a5a2775-0653-49ae-a88e-c55f21710afe",
   "metadata": {},
   "outputs": [],
   "source": [
    "df = pd.merge(left= metadata, right = label_df , on= \"Video\",how= \"left\")\n",
    "df_train =  df[df[\"partition\"] == \"Train\"].drop(columns= \"partition\")\n",
    "df_test =  df[df[\"partition\"] == \"Test\"].drop(columns= \"partition\")"
   ]
  },
  {
   "cell_type": "code",
   "execution_count": 36,
   "id": "c769c60d-6815-4813-8392-0964c155bff0",
   "metadata": {},
   "outputs": [],
   "source": [
    "class FrameDataset(Dataset):\n",
    "    def __init__(self, labels_df, transform=None, clip_length=32, tau=4, step_size=8):\n",
    "        \"\"\"\n",
    "        labels_df: DataFrame with columns [\"Video\", \"Frame\", \"Frames_path\", \"Anomaly Type\", \"Anomaly\"]\n",
    "        transform: Image transformations (for resizing, normalizing, etc.)\n",
    "        clip_length: Number of frames per sample for Fast Path (default 32)\n",
    "        tau: Frame stride for Slow Path (default 4, meaning every 4th frame)\n",
    "        step_size: How far the window moves per sample (default 8)\n",
    "        \"\"\"\n",
    "        self.labels_df = labels_df.copy()  # Prevent modifying the original DataFrame\n",
    "        self.transform = transform\n",
    "        self.clip_length = clip_length\n",
    "        self.tau = tau\n",
    "        self.step_size = step_size\n",
    "\n",
    "        # Ensure data is sorted by video and frame number\n",
    "        self.labels_df.sort_values(by=[\"Video\", \"Frame\"], inplace=True)\n",
    "\n",
    "        # Group frames by video\n",
    "        self.video_groups = self.labels_df.groupby(\"Video\")\n",
    "\n",
    "        # Encode labels\n",
    "        self.label_encoder = LabelEncoder()\n",
    "        self.labels_df[\"Encoded_Label\"] = self.label_encoder.fit_transform(self.labels_df[\"Anomaly\"])\n",
    "\n",
    "        # Store unique videos\n",
    "        self.video_list = list(self.video_groups.groups.keys())\n",
    "\n",
    "    def __len__(self):\n",
    "        total_clips = 0\n",
    "        for video_name in self.video_list:\n",
    "            num_frames = len(self.video_groups.get_group(video_name))\n",
    "            num_clips = max(0, (num_frames - self.clip_length) // self.step_size + 1)\n",
    "            total_clips += num_clips\n",
    "        return total_clips\n",
    "\n",
    "    def __getitem__(self, idx):\n",
    "        # Determine video & clip index\n",
    "        total_clips = 0\n",
    "        for video_name in self.video_list:\n",
    "            video_frames = self.video_groups.get_group(video_name)\n",
    "            num_frames = len(video_frames)\n",
    "            num_clips = max(0, (num_frames - self.clip_length) // self.step_size + 1)\n",
    "\n",
    "            if idx < total_clips + num_clips:\n",
    "                clip_idx = idx - total_clips\n",
    "                break\n",
    "\n",
    "            total_clips += num_clips\n",
    "        else:\n",
    "            raise IndexError(f\"Index {idx} is out of range for dataset of length {self.__len__()}\")\n",
    "\n",
    "        # Get frames & labels\n",
    "        frame_paths = video_frames[\"Frames_path\"].tolist()\n",
    "        frame_labels = video_frames[\"Encoded_Label\"].tolist()\n",
    "\n",
    "        start_idx = clip_idx * self.step_size\n",
    "\n",
    "        # Select frames for **Fast Path**\n",
    "        fast_frames_paths = frame_paths[start_idx:start_idx + self.clip_length]\n",
    "        fast_labels = frame_labels[start_idx:start_idx + self.clip_length]\n",
    "\n",
    "        # Select frames for **Slow Path** (every `tau` frames from fast frames)\n",
    "        slow_frames_paths = fast_frames_paths[::self.tau]\n",
    "        slow_labels = fast_labels[::self.tau]\n",
    "\n",
    "        # Ensure Slow Path has enough frames\n",
    "        while len(slow_frames_paths) < self.clip_length // self.tau:\n",
    "            slow_frames_paths.append(slow_frames_paths[-1])\n",
    "            slow_labels.append(slow_labels[-1])\n",
    "\n",
    "        # Load images\n",
    "        def load_frames(paths):\n",
    "            frames = []\n",
    "            for frame_path in paths:\n",
    "                frame = cv2.imread(frame_path)\n",
    "                if frame is None:\n",
    "                    raise ValueError(f\"Error reading image: {frame_path}\")\n",
    "\n",
    "                frame = cv2.cvtColor(frame, cv2.COLOR_BGR2RGB)\n",
    "\n",
    "                if self.transform:\n",
    "                    frame = self.transform(frame)\n",
    "                else:\n",
    "                    frame = torch.from_numpy(frame).float()\n",
    "\n",
    "                frames.append(frame)\n",
    "\n",
    "            return torch.stack(frames)  # Shape: (T, C, H, W)\n",
    "\n",
    "        fast_frames = load_frames(fast_frames_paths)\n",
    "        slow_frames = load_frames(slow_frames_paths)\n",
    "\n",
    "        # Transpose to match SlowFast input format (C, T, H, W)\n",
    "        fast_frames = fast_frames.permute(1, 0, 2, 3)  # (C, T, H, W)\n",
    "        slow_frames = slow_frames.permute(1, 0, 2, 3)  # (C, T/4, H, W)\n",
    "\n",
    "        # Assign majority label\n",
    "        clip_label = torch.tensor(fast_labels).mode()[0]  # Get most frequent label\n",
    "\n",
    "        return [slow_frames, fast_frames], torch.tensor(clip_label, dtype=torch.long)\n"
   ]
  },
  {
   "cell_type": "code",
   "execution_count": 37,
   "id": "6c8df11e-c93e-4c13-a027-8183d192bb19",
   "metadata": {},
   "outputs": [
    {
     "name": "stdout",
     "output_type": "stream",
     "text": [
      "Training dataset size: 5598\n",
      "testing dataset size: 2814\n"
     ]
    }
   ],
   "source": [
    "training_dataset = FrameDataset(labels_df = df_train)\n",
    "testing_dataset = FrameDataset(labels_df = df_test)\n",
    "print(\"Training dataset size: {}\\ntesting dataset size: {}\".format(len(training_dataset),len(testing_dataset)))\n",
    "num_workers = min(6, os.cpu_count() - 1)\n",
    "training_dataloader = torch.utils.data.DataLoader(training_dataset, batch_size=16, shuffle=True, num_workers=0)##, pin_memory=True)\n",
    "testing_dataloader = torch.utils.data.DataLoader(testing_dataset, batch_size=16, shuffle=True, num_workers=0)#, pin_memory=True)"
   ]
  },
  {
   "cell_type": "code",
   "execution_count": 38,
   "id": "3e89f7af-bd0f-4fbc-931a-7ff68e850f10",
   "metadata": {},
   "outputs": [
    {
     "name": "stderr",
     "output_type": "stream",
     "text": [
      "Using cache found in C:\\Users\\Keelan.Butler/.cache\\torch\\hub\\facebookresearch_pytorchvideo_main\n"
     ]
    }
   ],
   "source": [
    "slowfast_model = torch.hub.load('facebookresearch/pytorchvideo', 'slowfast_r50', pretrained=True)\n",
    "\n",
    "# Remove classification head\n",
    "slowfast_model.blocks[-1] = nn.Identity() # Remove the final classification layer\n",
    "\n",
    "class SlowFastBinaryClassifier(nn.Module):\n",
    "    def __init__(self, slowfast_model):\n",
    "        super(SlowFastBinaryClassifier, self).__init__()\n",
    "        self.slowfast_model = slowfast_model\n",
    "        self.fc = nn.Linear(2304 , 1)  # Output 1 for binary classification\n",
    "\n",
    "    def forward(self, slow_frames, fast_frames):\n",
    "        features = self.slowfast_model([slow_frames, fast_frames])  # Forward pass\n",
    "        #print(\"Feature shape before pooling:\", features.shape)\n",
    "        \n",
    "        features = F.adaptive_avg_pool3d(features, (1, 1, 1)).squeeze()\n",
    "\n",
    "        return self.fc(features)"
   ]
  },
  {
   "cell_type": "code",
   "execution_count": 39,
   "id": "eaf5245b-6182-49cc-8bec-e3d18b6e1acf",
   "metadata": {},
   "outputs": [],
   "source": [
    "model_binary = SlowFastBinaryClassifier(slowfast_model)"
   ]
  },
  {
   "cell_type": "code",
   "execution_count": null,
   "id": "c92ffa91-af57-42c7-82c8-d1fc24fe6f75",
   "metadata": {
    "scrolled": true
   },
   "outputs": [
    {
     "name": "stdout",
     "output_type": "stream",
     "text": [
      "Using device: cpu\n"
     ]
    },
    {
     "name": "stderr",
     "output_type": "stream",
     "text": [
      "Training pass:   0%|                                                                                                   | 0/350 [00:00<?, ?it/s]C:\\Users\\Keelan.Butler\\AppData\\Local\\Temp\\ipykernel_15332\\541321580.py:101: UserWarning: To copy construct from a tensor, it is recommended to use sourceTensor.clone().detach() or sourceTensor.clone().detach().requires_grad_(True), rather than torch.tensor(sourceTensor).\n",
      "  return [slow_frames, fast_frames], torch.tensor(clip_label, dtype=torch.long)\n",
      "Training pass: 100%|█████████████████████████████████████████████████████████████████████████████████████| 350/350 [13:43:30<00:00, 141.17s/it]\n",
      "Cycling Testing Dataloader: 100%|██████████████████████████████████████████████████████████████████████████| 176/176 [1:03:15<00:00, 21.56s/it]\n"
     ]
    },
    {
     "name": "stdout",
     "output_type": "stream",
     "text": [
      "Saving Optimal model: 1 epoch\n",
      "Epoch [1/25] - Training Loss: 0.1616, Test Loss: 0.4057\n"
     ]
    },
    {
     "name": "stderr",
     "output_type": "stream",
     "text": [
      "Training pass: 100%|█████████████████████████████████████████████████████████████████████████████████████| 350/350 [14:10:20<00:00, 145.77s/it]\n",
      "Cycling Testing Dataloader: 100%|████████████████████████████████████████████████████████████████████████████| 176/176 [51:34<00:00, 17.58s/it]\n"
     ]
    },
    {
     "name": "stdout",
     "output_type": "stream",
     "text": [
      "Epoch [2/25] - Training Loss: 0.0513, Test Loss: 0.5424\n"
     ]
    },
    {
     "name": "stderr",
     "output_type": "stream",
     "text": [
      "Training pass: 100%|█████████████████████████████████████████████████████████████████████████████████████| 350/350 [15:18:28<00:00, 157.45s/it]\n",
      "Cycling Testing Dataloader: 100%|████████████████████████████████████████████████████████████████████████████| 176/176 [53:41<00:00, 18.31s/it]\n"
     ]
    },
    {
     "name": "stdout",
     "output_type": "stream",
     "text": [
      "Epoch [3/25] - Training Loss: 0.0325, Test Loss: 0.5527\n"
     ]
    },
    {
     "name": "stderr",
     "output_type": "stream",
     "text": [
      "Training pass:  38%|████████████████████████████████▏                                                   | 134/350 [5:12:22<8:21:02, 139.18s/it]"
     ]
    }
   ],
   "source": [
    "# Training Hyperparameters\n",
    "device = torch.device(\"cuda\" if torch.cuda.is_available() else \"cpu\")\n",
    "model_binary = SlowFastBinaryClassifier(slowfast_model)\n",
    "\n",
    "epochs = 25\n",
    "losses = np.zeros((2, epochs))\n",
    "model_binary.to(device)\n",
    "\n",
    "optimiser = optim.Adam(model_binary.parameters(), lr=1e-4, weight_decay=1e-4)  \n",
    "loss_function = nn.BCEWithLogitsLoss()\n",
    "\n",
    "# Use GPU if available\n",
    "\n",
    "print(f\"Using device: {device}\")\n",
    "\n",
    "\n",
    "best_loss = np.inf\n",
    "\n",
    "threshhold = 0.5 \n",
    "\n",
    "# Training Loop\n",
    "for epoch in range(epochs):\n",
    "    epoch_loss = 0.0\n",
    "    model_binary.train()\n",
    "\n",
    "    for frames, labels in tqdm(training_dataloader, desc=f\"Training pass epoch: {epoch}\"):\n",
    "        torch.cuda.empty_cache()  \n",
    "        slow_frames, fast_frames = frames  # Unpack SlowFast inputs\n",
    "        \n",
    "        slow_frames, fast_frames, labels = (\n",
    "            slow_frames.to(device),\n",
    "            fast_frames.to(device),\n",
    "            labels.to(device),\n",
    "        )\n",
    "\n",
    "        slow_frames = slow_frames.permute(0, 4, 2, 3, 1)\n",
    "        fast_frames = fast_frames.permute(0, 4, 2, 3, 1)\n",
    "        \n",
    "        \n",
    "        #print(\"slow_frames shape:\", slow_frames.shape)\n",
    "        #print(\"fast_frames shape:\", fast_frames.shape)\n",
    "\n",
    "        pred = model_binary(slow_frames, fast_frames)\n",
    "        loss = loss_function(pred.squeeze(), labels.float())\n",
    "\n",
    "        optimiser.zero_grad()\n",
    "        loss.backward()\n",
    "        optimiser.step()\n",
    "        \n",
    "        epoch_loss += loss.item()\n",
    "        torch.cuda.empty_cache()  \n",
    "    # Store training loss\n",
    "    losses[0, epoch] = epoch_loss / len(training_dataloader)\n",
    "\n",
    "    # Validation Loop\n",
    "    model_binary.eval()\n",
    "    test_loss = 0.0\n",
    "\n",
    "    with torch.no_grad():\n",
    "        for test_frames, test_labels in tqdm(testing_dataloader, desc=\"Cycling Testing Dataloader\"):\n",
    "            slow_test_frames, fast_test_frames = test_frames  # Unpack test data\n",
    "            \n",
    "            slow_test_frames, fast_test_frames, test_labels = (\n",
    "                slow_test_frames.to(device),\n",
    "                fast_test_frames.to(device),\n",
    "                test_labels.to(device),\n",
    "            )\n",
    "            slow_test_frames = slow_test_frames.permute(0, 4, 2, 3, 1)\n",
    "            fast_test_frames = fast_test_frames.permute(0, 4, 2, 3, 1)\n",
    "\n",
    "            test_preds = model_binary(slow_test_frames, fast_test_frames)  \n",
    "            t_loss = loss_function(test_preds.squeeze(), test_labels.float())\n",
    "\n",
    "            test_loss += t_loss.item()\n",
    "            \n",
    "    losses[1, epoch] = test_loss / len(testing_dataloader)\n",
    "\n",
    "    # Save best model\n",
    "    if best_loss > losses[1, epoch]:\n",
    "        best_loss = losses[1, epoch] \n",
    "        print(f\"Saving Optimal model: {epoch + 1} epoch\")\n",
    "        torch.save(model_binary.state_dict(), os.path.join(\"Best_Models\", \"E2E_SF.pt\"))\n",
    "\n",
    "    print(f\"Epoch [{epoch+1}/{epochs}] - Training Loss: {losses[0,epoch]:.4f}, Test Loss: {losses[1,epoch]:.4f}\")"
   ]
  },
  {
   "cell_type": "code",
   "execution_count": null,
   "id": "bf572668-0cb3-4eaf-8d28-189be1aeb668",
   "metadata": {},
   "outputs": [],
   "source": [
    "plt.plot(losses[0], label = 'Training')\n",
    "plt.plot(losses[1], label = 'Testing')\n",
    "plt.grid()\n",
    "plt.xlabel(\"Epochs\")\n",
    "plt.ylabel(\"Loss\")\n",
    "plt.legend()\n",
    "plt.title(\"Slow-Fast Binary Classification Model\")"
   ]
  },
  {
   "cell_type": "code",
   "execution_count": 20,
   "id": "da1319a8-cb86-4a0a-ad58-00268bfca9f3",
   "metadata": {},
   "outputs": [
    {
     "name": "stdout",
     "output_type": "stream",
     "text": [
      "Best model loaded!\n"
     ]
    }
   ],
   "source": [
    "model_binary.load_state_dict(torch.load(os.path.join(\"Best_Models\", \"E2E_SF.pt\")))\n",
    "print(\"Best model loaded!\")"
   ]
  },
  {
   "cell_type": "code",
   "execution_count": 25,
   "id": "13190fd4-0354-47dd-9f38-46f95fe77e0f",
   "metadata": {},
   "outputs": [
    {
     "name": "stderr",
     "output_type": "stream",
     "text": [
      "  0%|                                                                                                                  | 0/176 [00:00<?, ?it/s]C:\\Users\\Keelan.Butler\\AppData\\Local\\Temp\\ipykernel_15332\\541321580.py:101: UserWarning: To copy construct from a tensor, it is recommended to use sourceTensor.clone().detach() or sourceTensor.clone().detach().requires_grad_(True), rather than torch.tensor(sourceTensor).\n",
      "  return [slow_frames, fast_frames], torch.tensor(clip_label, dtype=torch.long)\n",
      "  1%|▌                                                                                                         | 1/176 [00:15<45:31, 15.61s/it]"
     ]
    },
    {
     "name": "stdout",
     "output_type": "stream",
     "text": [
      "Feature shape before pooling: torch.Size([16, 2304, 1, 1, 1])\n"
     ]
    },
    {
     "name": "stderr",
     "output_type": "stream",
     "text": [
      "  1%|█▏                                                                                                        | 2/176 [00:32<46:54, 16.17s/it]"
     ]
    },
    {
     "name": "stdout",
     "output_type": "stream",
     "text": [
      "Feature shape before pooling: torch.Size([16, 2304, 1, 1, 1])\n"
     ]
    },
    {
     "name": "stderr",
     "output_type": "stream",
     "text": [
      "  2%|█▊                                                                                                        | 3/176 [00:53<53:18, 18.49s/it]"
     ]
    },
    {
     "name": "stdout",
     "output_type": "stream",
     "text": [
      "Feature shape before pooling: torch.Size([16, 2304, 1, 1, 1])\n"
     ]
    },
    {
     "name": "stderr",
     "output_type": "stream",
     "text": [
      "  2%|██▍                                                                                                       | 4/176 [01:11<52:19, 18.25s/it]"
     ]
    },
    {
     "name": "stdout",
     "output_type": "stream",
     "text": [
      "Feature shape before pooling: torch.Size([16, 2304, 1, 1, 1])\n"
     ]
    },
    {
     "name": "stderr",
     "output_type": "stream",
     "text": [
      "  3%|███                                                                                                       | 5/176 [01:28<51:11, 17.96s/it]"
     ]
    },
    {
     "name": "stdout",
     "output_type": "stream",
     "text": [
      "Feature shape before pooling: torch.Size([16, 2304, 1, 1, 1])\n"
     ]
    },
    {
     "name": "stderr",
     "output_type": "stream",
     "text": [
      "  3%|███▌                                                                                                      | 6/176 [01:46<50:36, 17.86s/it]"
     ]
    },
    {
     "name": "stdout",
     "output_type": "stream",
     "text": [
      "Feature shape before pooling: torch.Size([16, 2304, 1, 1, 1])\n"
     ]
    },
    {
     "name": "stderr",
     "output_type": "stream",
     "text": [
      "  4%|████▏                                                                                                     | 7/176 [02:03<49:58, 17.74s/it]"
     ]
    },
    {
     "name": "stdout",
     "output_type": "stream",
     "text": [
      "Feature shape before pooling: torch.Size([16, 2304, 1, 1, 1])\n"
     ]
    },
    {
     "name": "stderr",
     "output_type": "stream",
     "text": [
      "  5%|████▊                                                                                                     | 8/176 [02:26<54:02, 19.30s/it]"
     ]
    },
    {
     "name": "stdout",
     "output_type": "stream",
     "text": [
      "Feature shape before pooling: torch.Size([16, 2304, 1, 1, 1])\n"
     ]
    },
    {
     "name": "stderr",
     "output_type": "stream",
     "text": [
      "  5%|█████▍                                                                                                    | 9/176 [02:47<55:13, 19.84s/it]"
     ]
    },
    {
     "name": "stdout",
     "output_type": "stream",
     "text": [
      "Feature shape before pooling: torch.Size([16, 2304, 1, 1, 1])\n"
     ]
    },
    {
     "name": "stderr",
     "output_type": "stream",
     "text": [
      "  6%|█████▉                                                                                                   | 10/176 [03:06<53:50, 19.46s/it]"
     ]
    },
    {
     "name": "stdout",
     "output_type": "stream",
     "text": [
      "Feature shape before pooling: torch.Size([16, 2304, 1, 1, 1])\n"
     ]
    },
    {
     "name": "stderr",
     "output_type": "stream",
     "text": [
      "  6%|██████▌                                                                                                  | 11/176 [03:24<52:08, 18.96s/it]"
     ]
    },
    {
     "name": "stdout",
     "output_type": "stream",
     "text": [
      "Feature shape before pooling: torch.Size([16, 2304, 1, 1, 1])\n"
     ]
    },
    {
     "name": "stderr",
     "output_type": "stream",
     "text": [
      "  7%|███████▏                                                                                                 | 12/176 [03:42<51:14, 18.75s/it]"
     ]
    },
    {
     "name": "stdout",
     "output_type": "stream",
     "text": [
      "Feature shape before pooling: torch.Size([16, 2304, 1, 1, 1])\n"
     ]
    },
    {
     "name": "stderr",
     "output_type": "stream",
     "text": [
      "  7%|███████▊                                                                                                 | 13/176 [04:00<50:10, 18.47s/it]"
     ]
    },
    {
     "name": "stdout",
     "output_type": "stream",
     "text": [
      "Feature shape before pooling: torch.Size([16, 2304, 1, 1, 1])\n"
     ]
    },
    {
     "name": "stderr",
     "output_type": "stream",
     "text": [
      "  8%|████████▎                                                                                                | 14/176 [04:18<50:05, 18.55s/it]"
     ]
    },
    {
     "name": "stdout",
     "output_type": "stream",
     "text": [
      "Feature shape before pooling: torch.Size([16, 2304, 1, 1, 1])\n"
     ]
    },
    {
     "name": "stderr",
     "output_type": "stream",
     "text": [
      "  9%|████████▉                                                                                                | 15/176 [04:38<50:53, 18.96s/it]"
     ]
    },
    {
     "name": "stdout",
     "output_type": "stream",
     "text": [
      "Feature shape before pooling: torch.Size([16, 2304, 1, 1, 1])\n"
     ]
    },
    {
     "name": "stderr",
     "output_type": "stream",
     "text": [
      "  9%|█████████▌                                                                                               | 16/176 [04:54<47:52, 17.95s/it]"
     ]
    },
    {
     "name": "stdout",
     "output_type": "stream",
     "text": [
      "Feature shape before pooling: torch.Size([16, 2304, 1, 1, 1])\n"
     ]
    },
    {
     "name": "stderr",
     "output_type": "stream",
     "text": [
      " 10%|██████████▏                                                                                              | 17/176 [05:10<45:44, 17.26s/it]"
     ]
    },
    {
     "name": "stdout",
     "output_type": "stream",
     "text": [
      "Feature shape before pooling: torch.Size([16, 2304, 1, 1, 1])\n"
     ]
    },
    {
     "name": "stderr",
     "output_type": "stream",
     "text": [
      " 10%|██████████▋                                                                                              | 18/176 [05:25<44:05, 16.74s/it]"
     ]
    },
    {
     "name": "stdout",
     "output_type": "stream",
     "text": [
      "Feature shape before pooling: torch.Size([16, 2304, 1, 1, 1])\n"
     ]
    },
    {
     "name": "stderr",
     "output_type": "stream",
     "text": [
      " 11%|███████████▎                                                                                             | 19/176 [05:41<43:12, 16.52s/it]"
     ]
    },
    {
     "name": "stdout",
     "output_type": "stream",
     "text": [
      "Feature shape before pooling: torch.Size([16, 2304, 1, 1, 1])\n"
     ]
    },
    {
     "name": "stderr",
     "output_type": "stream",
     "text": [
      " 11%|███████████▉                                                                                             | 20/176 [06:00<44:30, 17.12s/it]"
     ]
    },
    {
     "name": "stdout",
     "output_type": "stream",
     "text": [
      "Feature shape before pooling: torch.Size([16, 2304, 1, 1, 1])\n"
     ]
    },
    {
     "name": "stderr",
     "output_type": "stream",
     "text": [
      " 12%|████████████▌                                                                                            | 21/176 [06:18<45:26, 17.59s/it]"
     ]
    },
    {
     "name": "stdout",
     "output_type": "stream",
     "text": [
      "Feature shape before pooling: torch.Size([16, 2304, 1, 1, 1])\n"
     ]
    },
    {
     "name": "stderr",
     "output_type": "stream",
     "text": [
      " 12%|█████████████▏                                                                                           | 22/176 [06:35<44:51, 17.48s/it]"
     ]
    },
    {
     "name": "stdout",
     "output_type": "stream",
     "text": [
      "Feature shape before pooling: torch.Size([16, 2304, 1, 1, 1])\n"
     ]
    },
    {
     "name": "stderr",
     "output_type": "stream",
     "text": [
      " 13%|█████████████▋                                                                                           | 23/176 [06:52<43:31, 17.07s/it]"
     ]
    },
    {
     "name": "stdout",
     "output_type": "stream",
     "text": [
      "Feature shape before pooling: torch.Size([16, 2304, 1, 1, 1])\n"
     ]
    },
    {
     "name": "stderr",
     "output_type": "stream",
     "text": [
      " 14%|██████████████▎                                                                                          | 24/176 [07:08<42:29, 16.77s/it]"
     ]
    },
    {
     "name": "stdout",
     "output_type": "stream",
     "text": [
      "Feature shape before pooling: torch.Size([16, 2304, 1, 1, 1])\n"
     ]
    },
    {
     "name": "stderr",
     "output_type": "stream",
     "text": [
      " 14%|██████████████▉                                                                                          | 25/176 [07:24<41:51, 16.63s/it]"
     ]
    },
    {
     "name": "stdout",
     "output_type": "stream",
     "text": [
      "Feature shape before pooling: torch.Size([16, 2304, 1, 1, 1])\n"
     ]
    },
    {
     "name": "stderr",
     "output_type": "stream",
     "text": [
      " 15%|███████████████▌                                                                                         | 26/176 [07:44<44:15, 17.70s/it]"
     ]
    },
    {
     "name": "stdout",
     "output_type": "stream",
     "text": [
      "Feature shape before pooling: torch.Size([16, 2304, 1, 1, 1])\n"
     ]
    },
    {
     "name": "stderr",
     "output_type": "stream",
     "text": [
      " 15%|████████████████                                                                                         | 27/176 [08:00<42:43, 17.20s/it]"
     ]
    },
    {
     "name": "stdout",
     "output_type": "stream",
     "text": [
      "Feature shape before pooling: torch.Size([16, 2304, 1, 1, 1])\n"
     ]
    },
    {
     "name": "stderr",
     "output_type": "stream",
     "text": [
      " 16%|████████████████▋                                                                                        | 28/176 [08:17<42:02, 17.04s/it]"
     ]
    },
    {
     "name": "stdout",
     "output_type": "stream",
     "text": [
      "Feature shape before pooling: torch.Size([16, 2304, 1, 1, 1])\n"
     ]
    },
    {
     "name": "stderr",
     "output_type": "stream",
     "text": [
      " 16%|█████████████████▎                                                                                       | 29/176 [08:33<40:51, 16.68s/it]"
     ]
    },
    {
     "name": "stdout",
     "output_type": "stream",
     "text": [
      "Feature shape before pooling: torch.Size([16, 2304, 1, 1, 1])\n"
     ]
    },
    {
     "name": "stderr",
     "output_type": "stream",
     "text": [
      " 17%|█████████████████▉                                                                                       | 30/176 [08:48<39:52, 16.39s/it]"
     ]
    },
    {
     "name": "stdout",
     "output_type": "stream",
     "text": [
      "Feature shape before pooling: torch.Size([16, 2304, 1, 1, 1])\n"
     ]
    },
    {
     "name": "stderr",
     "output_type": "stream",
     "text": [
      " 18%|██████████████████▍                                                                                      | 31/176 [09:04<39:04, 16.17s/it]"
     ]
    },
    {
     "name": "stdout",
     "output_type": "stream",
     "text": [
      "Feature shape before pooling: torch.Size([16, 2304, 1, 1, 1])\n"
     ]
    },
    {
     "name": "stderr",
     "output_type": "stream",
     "text": [
      " 18%|███████████████████                                                                                      | 32/176 [09:23<40:53, 17.04s/it]"
     ]
    },
    {
     "name": "stdout",
     "output_type": "stream",
     "text": [
      "Feature shape before pooling: torch.Size([16, 2304, 1, 1, 1])\n"
     ]
    },
    {
     "name": "stderr",
     "output_type": "stream",
     "text": [
      " 19%|███████████████████▋                                                                                     | 33/176 [09:40<40:20, 16.93s/it]"
     ]
    },
    {
     "name": "stdout",
     "output_type": "stream",
     "text": [
      "Feature shape before pooling: torch.Size([16, 2304, 1, 1, 1])\n"
     ]
    },
    {
     "name": "stderr",
     "output_type": "stream",
     "text": [
      " 19%|████████████████████▎                                                                                    | 34/176 [09:58<40:47, 17.23s/it]"
     ]
    },
    {
     "name": "stdout",
     "output_type": "stream",
     "text": [
      "Feature shape before pooling: torch.Size([16, 2304, 1, 1, 1])\n"
     ]
    },
    {
     "name": "stderr",
     "output_type": "stream",
     "text": [
      " 20%|████████████████████▉                                                                                    | 35/176 [10:14<39:28, 16.80s/it]"
     ]
    },
    {
     "name": "stdout",
     "output_type": "stream",
     "text": [
      "Feature shape before pooling: torch.Size([16, 2304, 1, 1, 1])\n"
     ]
    },
    {
     "name": "stderr",
     "output_type": "stream",
     "text": [
      " 20%|█████████████████████▍                                                                                   | 36/176 [10:29<38:33, 16.52s/it]"
     ]
    },
    {
     "name": "stdout",
     "output_type": "stream",
     "text": [
      "Feature shape before pooling: torch.Size([16, 2304, 1, 1, 1])\n"
     ]
    },
    {
     "name": "stderr",
     "output_type": "stream",
     "text": [
      " 21%|██████████████████████                                                                                   | 37/176 [10:45<37:50, 16.33s/it]"
     ]
    },
    {
     "name": "stdout",
     "output_type": "stream",
     "text": [
      "Feature shape before pooling: torch.Size([16, 2304, 1, 1, 1])\n"
     ]
    },
    {
     "name": "stderr",
     "output_type": "stream",
     "text": [
      " 22%|██████████████████████▋                                                                                  | 38/176 [11:03<38:35, 16.78s/it]"
     ]
    },
    {
     "name": "stdout",
     "output_type": "stream",
     "text": [
      "Feature shape before pooling: torch.Size([16, 2304, 1, 1, 1])\n"
     ]
    },
    {
     "name": "stderr",
     "output_type": "stream",
     "text": [
      " 22%|███████████████████████▎                                                                                 | 39/176 [11:20<38:42, 16.95s/it]"
     ]
    },
    {
     "name": "stdout",
     "output_type": "stream",
     "text": [
      "Feature shape before pooling: torch.Size([16, 2304, 1, 1, 1])\n"
     ]
    },
    {
     "name": "stderr",
     "output_type": "stream",
     "text": [
      " 23%|███████████████████████▊                                                                                 | 40/176 [11:38<39:07, 17.26s/it]"
     ]
    },
    {
     "name": "stdout",
     "output_type": "stream",
     "text": [
      "Feature shape before pooling: torch.Size([16, 2304, 1, 1, 1])\n"
     ]
    },
    {
     "name": "stderr",
     "output_type": "stream",
     "text": [
      " 23%|████████████████████████▍                                                                                | 41/176 [11:59<41:21, 18.38s/it]"
     ]
    },
    {
     "name": "stdout",
     "output_type": "stream",
     "text": [
      "Feature shape before pooling: torch.Size([16, 2304, 1, 1, 1])\n"
     ]
    },
    {
     "name": "stderr",
     "output_type": "stream",
     "text": [
      " 24%|█████████████████████████                                                                                | 42/176 [12:20<42:38, 19.10s/it]"
     ]
    },
    {
     "name": "stdout",
     "output_type": "stream",
     "text": [
      "Feature shape before pooling: torch.Size([16, 2304, 1, 1, 1])\n"
     ]
    },
    {
     "name": "stderr",
     "output_type": "stream",
     "text": [
      " 24%|█████████████████████████▋                                                                               | 43/176 [12:41<43:31, 19.63s/it]"
     ]
    },
    {
     "name": "stdout",
     "output_type": "stream",
     "text": [
      "Feature shape before pooling: torch.Size([16, 2304, 1, 1, 1])\n"
     ]
    },
    {
     "name": "stderr",
     "output_type": "stream",
     "text": [
      " 25%|██████████████████████████▎                                                                              | 44/176 [13:05<45:52, 20.85s/it]"
     ]
    },
    {
     "name": "stdout",
     "output_type": "stream",
     "text": [
      "Feature shape before pooling: torch.Size([16, 2304, 1, 1, 1])\n"
     ]
    },
    {
     "name": "stderr",
     "output_type": "stream",
     "text": [
      " 26%|██████████████████████████▊                                                                              | 45/176 [13:25<44:56, 20.58s/it]"
     ]
    },
    {
     "name": "stdout",
     "output_type": "stream",
     "text": [
      "Feature shape before pooling: torch.Size([16, 2304, 1, 1, 1])\n"
     ]
    },
    {
     "name": "stderr",
     "output_type": "stream",
     "text": [
      " 26%|███████████████████████████▍                                                                             | 46/176 [13:45<44:05, 20.35s/it]"
     ]
    },
    {
     "name": "stdout",
     "output_type": "stream",
     "text": [
      "Feature shape before pooling: torch.Size([16, 2304, 1, 1, 1])\n"
     ]
    },
    {
     "name": "stderr",
     "output_type": "stream",
     "text": [
      " 27%|████████████████████████████                                                                             | 47/176 [14:04<43:03, 20.03s/it]"
     ]
    },
    {
     "name": "stdout",
     "output_type": "stream",
     "text": [
      "Feature shape before pooling: torch.Size([16, 2304, 1, 1, 1])\n"
     ]
    },
    {
     "name": "stderr",
     "output_type": "stream",
     "text": [
      " 27%|████████████████████████████▋                                                                            | 48/176 [14:23<42:29, 19.92s/it]"
     ]
    },
    {
     "name": "stdout",
     "output_type": "stream",
     "text": [
      "Feature shape before pooling: torch.Size([16, 2304, 1, 1, 1])\n"
     ]
    },
    {
     "name": "stderr",
     "output_type": "stream",
     "text": [
      " 28%|█████████████████████████████▏                                                                           | 49/176 [14:43<42:01, 19.85s/it]"
     ]
    },
    {
     "name": "stdout",
     "output_type": "stream",
     "text": [
      "Feature shape before pooling: torch.Size([16, 2304, 1, 1, 1])\n"
     ]
    },
    {
     "name": "stderr",
     "output_type": "stream",
     "text": [
      " 28%|█████████████████████████████▊                                                                           | 50/176 [15:03<41:47, 19.90s/it]"
     ]
    },
    {
     "name": "stdout",
     "output_type": "stream",
     "text": [
      "Feature shape before pooling: torch.Size([16, 2304, 1, 1, 1])\n"
     ]
    },
    {
     "name": "stderr",
     "output_type": "stream",
     "text": [
      " 29%|██████████████████████████████▍                                                                          | 51/176 [15:22<40:49, 19.60s/it]"
     ]
    },
    {
     "name": "stdout",
     "output_type": "stream",
     "text": [
      "Feature shape before pooling: torch.Size([16, 2304, 1, 1, 1])\n"
     ]
    },
    {
     "name": "stderr",
     "output_type": "stream",
     "text": [
      " 30%|███████████████████████████████                                                                          | 52/176 [15:41<40:02, 19.38s/it]"
     ]
    },
    {
     "name": "stdout",
     "output_type": "stream",
     "text": [
      "Feature shape before pooling: torch.Size([16, 2304, 1, 1, 1])\n"
     ]
    },
    {
     "name": "stderr",
     "output_type": "stream",
     "text": [
      " 30%|███████████████████████████████▌                                                                         | 53/176 [15:59<39:04, 19.06s/it]"
     ]
    },
    {
     "name": "stdout",
     "output_type": "stream",
     "text": [
      "Feature shape before pooling: torch.Size([16, 2304, 1, 1, 1])\n"
     ]
    },
    {
     "name": "stderr",
     "output_type": "stream",
     "text": [
      " 31%|████████████████████████████████▏                                                                        | 54/176 [16:18<38:20, 18.86s/it]"
     ]
    },
    {
     "name": "stdout",
     "output_type": "stream",
     "text": [
      "Feature shape before pooling: torch.Size([16, 2304, 1, 1, 1])\n"
     ]
    },
    {
     "name": "stderr",
     "output_type": "stream",
     "text": [
      " 31%|████████████████████████████████▊                                                                        | 55/176 [16:36<37:40, 18.68s/it]"
     ]
    },
    {
     "name": "stdout",
     "output_type": "stream",
     "text": [
      "Feature shape before pooling: torch.Size([16, 2304, 1, 1, 1])\n"
     ]
    },
    {
     "name": "stderr",
     "output_type": "stream",
     "text": [
      " 32%|█████████████████████████████████▍                                                                       | 56/176 [16:55<37:38, 18.82s/it]"
     ]
    },
    {
     "name": "stdout",
     "output_type": "stream",
     "text": [
      "Feature shape before pooling: torch.Size([16, 2304, 1, 1, 1])\n"
     ]
    },
    {
     "name": "stderr",
     "output_type": "stream",
     "text": [
      " 32%|██████████████████████████████████                                                                       | 57/176 [17:14<37:25, 18.87s/it]"
     ]
    },
    {
     "name": "stdout",
     "output_type": "stream",
     "text": [
      "Feature shape before pooling: torch.Size([16, 2304, 1, 1, 1])\n"
     ]
    },
    {
     "name": "stderr",
     "output_type": "stream",
     "text": [
      " 33%|██████████████████████████████████▌                                                                      | 58/176 [17:34<37:51, 19.25s/it]"
     ]
    },
    {
     "name": "stdout",
     "output_type": "stream",
     "text": [
      "Feature shape before pooling: torch.Size([16, 2304, 1, 1, 1])\n"
     ]
    },
    {
     "name": "stderr",
     "output_type": "stream",
     "text": [
      " 34%|███████████████████████████████████▏                                                                     | 59/176 [17:56<38:52, 19.94s/it]"
     ]
    },
    {
     "name": "stdout",
     "output_type": "stream",
     "text": [
      "Feature shape before pooling: torch.Size([16, 2304, 1, 1, 1])\n"
     ]
    },
    {
     "name": "stderr",
     "output_type": "stream",
     "text": [
      " 34%|███████████████████████████████████▊                                                                     | 60/176 [18:18<39:43, 20.55s/it]"
     ]
    },
    {
     "name": "stdout",
     "output_type": "stream",
     "text": [
      "Feature shape before pooling: torch.Size([16, 2304, 1, 1, 1])\n"
     ]
    },
    {
     "name": "stderr",
     "output_type": "stream",
     "text": [
      " 35%|████████████████████████████████████▍                                                                    | 61/176 [18:38<39:18, 20.51s/it]"
     ]
    },
    {
     "name": "stdout",
     "output_type": "stream",
     "text": [
      "Feature shape before pooling: torch.Size([16, 2304, 1, 1, 1])\n"
     ]
    },
    {
     "name": "stderr",
     "output_type": "stream",
     "text": [
      " 35%|████████████████████████████████████▉                                                                    | 62/176 [18:59<39:22, 20.73s/it]"
     ]
    },
    {
     "name": "stdout",
     "output_type": "stream",
     "text": [
      "Feature shape before pooling: torch.Size([16, 2304, 1, 1, 1])\n"
     ]
    },
    {
     "name": "stderr",
     "output_type": "stream",
     "text": [
      " 36%|█████████████████████████████████████▌                                                                   | 63/176 [19:21<39:17, 20.86s/it]"
     ]
    },
    {
     "name": "stdout",
     "output_type": "stream",
     "text": [
      "Feature shape before pooling: torch.Size([16, 2304, 1, 1, 1])\n"
     ]
    },
    {
     "name": "stderr",
     "output_type": "stream",
     "text": [
      " 36%|██████████████████████████████████████▏                                                                  | 64/176 [19:43<39:47, 21.31s/it]"
     ]
    },
    {
     "name": "stdout",
     "output_type": "stream",
     "text": [
      "Feature shape before pooling: torch.Size([16, 2304, 1, 1, 1])\n"
     ]
    },
    {
     "name": "stderr",
     "output_type": "stream",
     "text": [
      " 37%|██████████████████████████████████████▊                                                                  | 65/176 [20:04<39:06, 21.14s/it]"
     ]
    },
    {
     "name": "stdout",
     "output_type": "stream",
     "text": [
      "Feature shape before pooling: torch.Size([16, 2304, 1, 1, 1])\n"
     ]
    },
    {
     "name": "stderr",
     "output_type": "stream",
     "text": [
      " 38%|███████████████████████████████████████▍                                                                 | 66/176 [20:24<38:24, 20.95s/it]"
     ]
    },
    {
     "name": "stdout",
     "output_type": "stream",
     "text": [
      "Feature shape before pooling: torch.Size([16, 2304, 1, 1, 1])\n"
     ]
    },
    {
     "name": "stderr",
     "output_type": "stream",
     "text": [
      " 38%|███████████████████████████████████████▉                                                                 | 67/176 [20:44<37:42, 20.75s/it]"
     ]
    },
    {
     "name": "stdout",
     "output_type": "stream",
     "text": [
      "Feature shape before pooling: torch.Size([16, 2304, 1, 1, 1])\n"
     ]
    },
    {
     "name": "stderr",
     "output_type": "stream",
     "text": [
      " 39%|████████████████████████████████████████▌                                                                | 68/176 [21:07<38:04, 21.15s/it]"
     ]
    },
    {
     "name": "stdout",
     "output_type": "stream",
     "text": [
      "Feature shape before pooling: torch.Size([16, 2304, 1, 1, 1])\n"
     ]
    },
    {
     "name": "stderr",
     "output_type": "stream",
     "text": [
      " 39%|█████████████████████████████████████████▏                                                               | 69/176 [21:28<37:44, 21.16s/it]"
     ]
    },
    {
     "name": "stdout",
     "output_type": "stream",
     "text": [
      "Feature shape before pooling: torch.Size([16, 2304, 1, 1, 1])\n"
     ]
    },
    {
     "name": "stderr",
     "output_type": "stream",
     "text": [
      " 40%|█████████████████████████████████████████▊                                                               | 70/176 [21:50<38:08, 21.59s/it]"
     ]
    },
    {
     "name": "stdout",
     "output_type": "stream",
     "text": [
      "Feature shape before pooling: torch.Size([16, 2304, 1, 1, 1])\n"
     ]
    },
    {
     "name": "stderr",
     "output_type": "stream",
     "text": [
      " 40%|██████████████████████████████████████████▎                                                              | 71/176 [22:12<37:46, 21.58s/it]"
     ]
    },
    {
     "name": "stdout",
     "output_type": "stream",
     "text": [
      "Feature shape before pooling: torch.Size([16, 2304, 1, 1, 1])\n"
     ]
    },
    {
     "name": "stderr",
     "output_type": "stream",
     "text": [
      " 41%|██████████████████████████████████████████▉                                                              | 72/176 [22:35<38:24, 22.16s/it]"
     ]
    },
    {
     "name": "stdout",
     "output_type": "stream",
     "text": [
      "Feature shape before pooling: torch.Size([16, 2304, 1, 1, 1])\n"
     ]
    },
    {
     "name": "stderr",
     "output_type": "stream",
     "text": [
      " 41%|███████████████████████████████████████████▌                                                             | 73/176 [22:59<38:42, 22.55s/it]"
     ]
    },
    {
     "name": "stdout",
     "output_type": "stream",
     "text": [
      "Feature shape before pooling: torch.Size([16, 2304, 1, 1, 1])\n"
     ]
    },
    {
     "name": "stderr",
     "output_type": "stream",
     "text": [
      " 42%|████████████████████████████████████████████▏                                                            | 74/176 [23:25<40:17, 23.70s/it]"
     ]
    },
    {
     "name": "stdout",
     "output_type": "stream",
     "text": [
      "Feature shape before pooling: torch.Size([16, 2304, 1, 1, 1])\n"
     ]
    },
    {
     "name": "stderr",
     "output_type": "stream",
     "text": [
      " 43%|████████████████████████████████████████████▋                                                            | 75/176 [23:50<40:29, 24.06s/it]"
     ]
    },
    {
     "name": "stdout",
     "output_type": "stream",
     "text": [
      "Feature shape before pooling: torch.Size([16, 2304, 1, 1, 1])\n"
     ]
    },
    {
     "name": "stderr",
     "output_type": "stream",
     "text": [
      " 43%|█████████████████████████████████████████████▎                                                           | 76/176 [24:13<39:41, 23.81s/it]"
     ]
    },
    {
     "name": "stdout",
     "output_type": "stream",
     "text": [
      "Feature shape before pooling: torch.Size([16, 2304, 1, 1, 1])\n"
     ]
    },
    {
     "name": "stderr",
     "output_type": "stream",
     "text": [
      " 44%|█████████████████████████████████████████████▉                                                           | 77/176 [24:36<38:37, 23.40s/it]"
     ]
    },
    {
     "name": "stdout",
     "output_type": "stream",
     "text": [
      "Feature shape before pooling: torch.Size([16, 2304, 1, 1, 1])\n"
     ]
    },
    {
     "name": "stderr",
     "output_type": "stream",
     "text": [
      " 44%|██████████████████████████████████████████████▌                                                          | 78/176 [24:58<37:45, 23.12s/it]"
     ]
    },
    {
     "name": "stdout",
     "output_type": "stream",
     "text": [
      "Feature shape before pooling: torch.Size([16, 2304, 1, 1, 1])\n"
     ]
    },
    {
     "name": "stderr",
     "output_type": "stream",
     "text": [
      " 45%|███████████████████████████████████████████████▏                                                         | 79/176 [25:19<36:06, 22.33s/it]"
     ]
    },
    {
     "name": "stdout",
     "output_type": "stream",
     "text": [
      "Feature shape before pooling: torch.Size([16, 2304, 1, 1, 1])\n"
     ]
    },
    {
     "name": "stderr",
     "output_type": "stream",
     "text": [
      " 45%|███████████████████████████████████████████████▋                                                         | 80/176 [25:39<34:40, 21.67s/it]"
     ]
    },
    {
     "name": "stdout",
     "output_type": "stream",
     "text": [
      "Feature shape before pooling: torch.Size([16, 2304, 1, 1, 1])\n"
     ]
    },
    {
     "name": "stderr",
     "output_type": "stream",
     "text": [
      " 46%|████████████████████████████████████████████████▎                                                        | 81/176 [25:59<33:40, 21.26s/it]"
     ]
    },
    {
     "name": "stdout",
     "output_type": "stream",
     "text": [
      "Feature shape before pooling: torch.Size([16, 2304, 1, 1, 1])\n"
     ]
    },
    {
     "name": "stderr",
     "output_type": "stream",
     "text": [
      " 47%|████████████████████████████████████████████████▉                                                        | 82/176 [26:19<32:30, 20.75s/it]"
     ]
    },
    {
     "name": "stdout",
     "output_type": "stream",
     "text": [
      "Feature shape before pooling: torch.Size([16, 2304, 1, 1, 1])\n"
     ]
    },
    {
     "name": "stderr",
     "output_type": "stream",
     "text": [
      " 47%|█████████████████████████████████████████████████▌                                                       | 83/176 [26:38<31:16, 20.17s/it]"
     ]
    },
    {
     "name": "stdout",
     "output_type": "stream",
     "text": [
      "Feature shape before pooling: torch.Size([16, 2304, 1, 1, 1])\n"
     ]
    },
    {
     "name": "stderr",
     "output_type": "stream",
     "text": [
      " 48%|██████████████████████████████████████████████████                                                       | 84/176 [26:59<31:33, 20.59s/it]"
     ]
    },
    {
     "name": "stdout",
     "output_type": "stream",
     "text": [
      "Feature shape before pooling: torch.Size([16, 2304, 1, 1, 1])\n"
     ]
    },
    {
     "name": "stderr",
     "output_type": "stream",
     "text": [
      " 48%|██████████████████████████████████████████████████▋                                                      | 85/176 [27:19<30:54, 20.38s/it]"
     ]
    },
    {
     "name": "stdout",
     "output_type": "stream",
     "text": [
      "Feature shape before pooling: torch.Size([16, 2304, 1, 1, 1])\n"
     ]
    },
    {
     "name": "stderr",
     "output_type": "stream",
     "text": [
      " 49%|███████████████████████████████████████████████████▎                                                     | 86/176 [27:39<30:28, 20.32s/it]"
     ]
    },
    {
     "name": "stdout",
     "output_type": "stream",
     "text": [
      "Feature shape before pooling: torch.Size([16, 2304, 1, 1, 1])\n"
     ]
    },
    {
     "name": "stderr",
     "output_type": "stream",
     "text": [
      " 49%|███████████████████████████████████████████████████▉                                                     | 87/176 [28:00<30:22, 20.48s/it]"
     ]
    },
    {
     "name": "stdout",
     "output_type": "stream",
     "text": [
      "Feature shape before pooling: torch.Size([16, 2304, 1, 1, 1])\n"
     ]
    },
    {
     "name": "stderr",
     "output_type": "stream",
     "text": [
      " 50%|████████████████████████████████████████████████████▌                                                    | 88/176 [28:21<30:03, 20.49s/it]"
     ]
    },
    {
     "name": "stdout",
     "output_type": "stream",
     "text": [
      "Feature shape before pooling: torch.Size([16, 2304, 1, 1, 1])\n"
     ]
    },
    {
     "name": "stderr",
     "output_type": "stream",
     "text": [
      " 51%|█████████████████████████████████████████████████████                                                    | 89/176 [28:40<29:24, 20.28s/it]"
     ]
    },
    {
     "name": "stdout",
     "output_type": "stream",
     "text": [
      "Feature shape before pooling: torch.Size([16, 2304, 1, 1, 1])\n"
     ]
    },
    {
     "name": "stderr",
     "output_type": "stream",
     "text": [
      " 51%|█████████████████████████████████████████████████████▋                                                   | 90/176 [29:00<28:52, 20.15s/it]"
     ]
    },
    {
     "name": "stdout",
     "output_type": "stream",
     "text": [
      "Feature shape before pooling: torch.Size([16, 2304, 1, 1, 1])\n"
     ]
    },
    {
     "name": "stderr",
     "output_type": "stream",
     "text": [
      " 52%|██████████████████████████████████████████████████████▎                                                  | 91/176 [29:24<30:10, 21.30s/it]"
     ]
    },
    {
     "name": "stdout",
     "output_type": "stream",
     "text": [
      "Feature shape before pooling: torch.Size([16, 2304, 1, 1, 1])\n"
     ]
    },
    {
     "name": "stderr",
     "output_type": "stream",
     "text": [
      " 52%|██████████████████████████████████████████████████████▉                                                  | 92/176 [29:47<30:37, 21.88s/it]"
     ]
    },
    {
     "name": "stdout",
     "output_type": "stream",
     "text": [
      "Feature shape before pooling: torch.Size([16, 2304, 1, 1, 1])\n"
     ]
    },
    {
     "name": "stderr",
     "output_type": "stream",
     "text": [
      " 53%|███████████████████████████████████████████████████████▍                                                 | 93/176 [30:11<30:46, 22.24s/it]"
     ]
    },
    {
     "name": "stdout",
     "output_type": "stream",
     "text": [
      "Feature shape before pooling: torch.Size([16, 2304, 1, 1, 1])\n"
     ]
    },
    {
     "name": "stderr",
     "output_type": "stream",
     "text": [
      " 53%|████████████████████████████████████████████████████████                                                 | 94/176 [30:32<30:12, 22.10s/it]"
     ]
    },
    {
     "name": "stdout",
     "output_type": "stream",
     "text": [
      "Feature shape before pooling: torch.Size([16, 2304, 1, 1, 1])\n"
     ]
    },
    {
     "name": "stderr",
     "output_type": "stream",
     "text": [
      " 54%|████████████████████████████████████████████████████████▋                                                | 95/176 [30:55<30:16, 22.43s/it]"
     ]
    },
    {
     "name": "stdout",
     "output_type": "stream",
     "text": [
      "Feature shape before pooling: torch.Size([16, 2304, 1, 1, 1])\n"
     ]
    },
    {
     "name": "stderr",
     "output_type": "stream",
     "text": [
      " 55%|█████████████████████████████████████████████████████████▎                                               | 96/176 [31:17<29:41, 22.27s/it]"
     ]
    },
    {
     "name": "stdout",
     "output_type": "stream",
     "text": [
      "Feature shape before pooling: torch.Size([16, 2304, 1, 1, 1])\n"
     ]
    },
    {
     "name": "stderr",
     "output_type": "stream",
     "text": [
      " 55%|█████████████████████████████████████████████████████████▊                                               | 97/176 [31:39<28:53, 21.95s/it]"
     ]
    },
    {
     "name": "stdout",
     "output_type": "stream",
     "text": [
      "Feature shape before pooling: torch.Size([16, 2304, 1, 1, 1])\n"
     ]
    },
    {
     "name": "stderr",
     "output_type": "stream",
     "text": [
      " 56%|██████████████████████████████████████████████████████████▍                                              | 98/176 [32:00<28:27, 21.90s/it]"
     ]
    },
    {
     "name": "stdout",
     "output_type": "stream",
     "text": [
      "Feature shape before pooling: torch.Size([16, 2304, 1, 1, 1])\n"
     ]
    },
    {
     "name": "stderr",
     "output_type": "stream",
     "text": [
      " 56%|███████████████████████████████████████████████████████████                                              | 99/176 [32:27<29:55, 23.32s/it]"
     ]
    },
    {
     "name": "stdout",
     "output_type": "stream",
     "text": [
      "Feature shape before pooling: torch.Size([16, 2304, 1, 1, 1])\n"
     ]
    },
    {
     "name": "stderr",
     "output_type": "stream",
     "text": [
      " 57%|███████████████████████████████████████████████████████████                                             | 100/176 [32:53<30:23, 23.99s/it]"
     ]
    },
    {
     "name": "stdout",
     "output_type": "stream",
     "text": [
      "Feature shape before pooling: torch.Size([16, 2304, 1, 1, 1])\n"
     ]
    },
    {
     "name": "stderr",
     "output_type": "stream",
     "text": [
      " 57%|███████████████████████████████████████████████████████████▋                                            | 101/176 [33:16<29:49, 23.86s/it]"
     ]
    },
    {
     "name": "stdout",
     "output_type": "stream",
     "text": [
      "Feature shape before pooling: torch.Size([16, 2304, 1, 1, 1])\n"
     ]
    },
    {
     "name": "stderr",
     "output_type": "stream",
     "text": [
      " 58%|████████████████████████████████████████████████████████████▎                                           | 102/176 [33:39<29:07, 23.62s/it]"
     ]
    },
    {
     "name": "stdout",
     "output_type": "stream",
     "text": [
      "Feature shape before pooling: torch.Size([16, 2304, 1, 1, 1])\n"
     ]
    },
    {
     "name": "stderr",
     "output_type": "stream",
     "text": [
      " 59%|████████████████████████████████████████████████████████████▊                                           | 103/176 [34:03<28:45, 23.64s/it]"
     ]
    },
    {
     "name": "stdout",
     "output_type": "stream",
     "text": [
      "Feature shape before pooling: torch.Size([16, 2304, 1, 1, 1])\n"
     ]
    },
    {
     "name": "stderr",
     "output_type": "stream",
     "text": [
      " 59%|█████████████████████████████████████████████████████████████▍                                          | 104/176 [34:27<28:35, 23.83s/it]"
     ]
    },
    {
     "name": "stdout",
     "output_type": "stream",
     "text": [
      "Feature shape before pooling: torch.Size([16, 2304, 1, 1, 1])\n"
     ]
    },
    {
     "name": "stderr",
     "output_type": "stream",
     "text": [
      " 60%|██████████████████████████████████████████████████████████████                                          | 105/176 [34:52<28:35, 24.16s/it]"
     ]
    },
    {
     "name": "stdout",
     "output_type": "stream",
     "text": [
      "Feature shape before pooling: torch.Size([16, 2304, 1, 1, 1])\n"
     ]
    },
    {
     "name": "stderr",
     "output_type": "stream",
     "text": [
      " 60%|██████████████████████████████████████████████████████████████▋                                         | 106/176 [35:19<29:06, 24.96s/it]"
     ]
    },
    {
     "name": "stdout",
     "output_type": "stream",
     "text": [
      "Feature shape before pooling: torch.Size([16, 2304, 1, 1, 1])\n"
     ]
    },
    {
     "name": "stderr",
     "output_type": "stream",
     "text": [
      " 61%|███████████████████████████████████████████████████████████████▏                                        | 107/176 [35:44<28:54, 25.13s/it]"
     ]
    },
    {
     "name": "stdout",
     "output_type": "stream",
     "text": [
      "Feature shape before pooling: torch.Size([16, 2304, 1, 1, 1])\n"
     ]
    },
    {
     "name": "stderr",
     "output_type": "stream",
     "text": [
      " 61%|███████████████████████████████████████████████████████████████▊                                        | 108/176 [36:07<27:33, 24.31s/it]"
     ]
    },
    {
     "name": "stdout",
     "output_type": "stream",
     "text": [
      "Feature shape before pooling: torch.Size([16, 2304, 1, 1, 1])\n"
     ]
    },
    {
     "name": "stderr",
     "output_type": "stream",
     "text": [
      " 62%|████████████████████████████████████████████████████████████████▍                                       | 109/176 [36:29<26:16, 23.53s/it]"
     ]
    },
    {
     "name": "stdout",
     "output_type": "stream",
     "text": [
      "Feature shape before pooling: torch.Size([16, 2304, 1, 1, 1])\n"
     ]
    },
    {
     "name": "stderr",
     "output_type": "stream",
     "text": [
      " 62%|█████████████████████████████████████████████████████████████████                                       | 110/176 [36:51<25:24, 23.10s/it]"
     ]
    },
    {
     "name": "stdout",
     "output_type": "stream",
     "text": [
      "Feature shape before pooling: torch.Size([16, 2304, 1, 1, 1])\n"
     ]
    },
    {
     "name": "stderr",
     "output_type": "stream",
     "text": [
      " 63%|█████████████████████████████████████████████████████████████████▌                                      | 111/176 [37:13<24:47, 22.89s/it]"
     ]
    },
    {
     "name": "stdout",
     "output_type": "stream",
     "text": [
      "Feature shape before pooling: torch.Size([16, 2304, 1, 1, 1])\n"
     ]
    },
    {
     "name": "stderr",
     "output_type": "stream",
     "text": [
      " 64%|██████████████████████████████████████████████████████████████████▏                                     | 112/176 [37:36<24:19, 22.81s/it]"
     ]
    },
    {
     "name": "stdout",
     "output_type": "stream",
     "text": [
      "Feature shape before pooling: torch.Size([16, 2304, 1, 1, 1])\n"
     ]
    },
    {
     "name": "stderr",
     "output_type": "stream",
     "text": [
      " 64%|██████████████████████████████████████████████████████████████████▊                                     | 113/176 [37:56<23:08, 22.04s/it]"
     ]
    },
    {
     "name": "stdout",
     "output_type": "stream",
     "text": [
      "Feature shape before pooling: torch.Size([16, 2304, 1, 1, 1])\n"
     ]
    },
    {
     "name": "stderr",
     "output_type": "stream",
     "text": [
      " 65%|███████████████████████████████████████████████████████████████████▎                                    | 114/176 [38:17<22:21, 21.64s/it]"
     ]
    },
    {
     "name": "stdout",
     "output_type": "stream",
     "text": [
      "Feature shape before pooling: torch.Size([16, 2304, 1, 1, 1])\n"
     ]
    },
    {
     "name": "stderr",
     "output_type": "stream",
     "text": [
      " 65%|███████████████████████████████████████████████████████████████████▉                                    | 115/176 [38:37<21:44, 21.38s/it]"
     ]
    },
    {
     "name": "stdout",
     "output_type": "stream",
     "text": [
      "Feature shape before pooling: torch.Size([16, 2304, 1, 1, 1])\n"
     ]
    },
    {
     "name": "stderr",
     "output_type": "stream",
     "text": [
      " 66%|████████████████████████████████████████████████████████████████████▌                                   | 116/176 [38:58<21:13, 21.23s/it]"
     ]
    },
    {
     "name": "stdout",
     "output_type": "stream",
     "text": [
      "Feature shape before pooling: torch.Size([16, 2304, 1, 1, 1])\n"
     ]
    },
    {
     "name": "stderr",
     "output_type": "stream",
     "text": [
      " 66%|█████████████████████████████████████████████████████████████████████▏                                  | 117/176 [39:20<21:04, 21.43s/it]"
     ]
    },
    {
     "name": "stdout",
     "output_type": "stream",
     "text": [
      "Feature shape before pooling: torch.Size([16, 2304, 1, 1, 1])\n"
     ]
    },
    {
     "name": "stderr",
     "output_type": "stream",
     "text": [
      " 67%|█████████████████████████████████████████████████████████████████████▋                                  | 118/176 [39:46<22:02, 22.81s/it]"
     ]
    },
    {
     "name": "stdout",
     "output_type": "stream",
     "text": [
      "Feature shape before pooling: torch.Size([16, 2304, 1, 1, 1])\n"
     ]
    },
    {
     "name": "stderr",
     "output_type": "stream",
     "text": [
      " 68%|██████████████████████████████████████████████████████████████████████▎                                 | 119/176 [40:11<22:16, 23.45s/it]"
     ]
    },
    {
     "name": "stdout",
     "output_type": "stream",
     "text": [
      "Feature shape before pooling: torch.Size([16, 2304, 1, 1, 1])\n"
     ]
    },
    {
     "name": "stderr",
     "output_type": "stream",
     "text": [
      " 68%|██████████████████████████████████████████████████████████████████████▉                                 | 120/176 [40:34<21:48, 23.36s/it]"
     ]
    },
    {
     "name": "stdout",
     "output_type": "stream",
     "text": [
      "Feature shape before pooling: torch.Size([16, 2304, 1, 1, 1])\n"
     ]
    },
    {
     "name": "stderr",
     "output_type": "stream",
     "text": [
      " 69%|███████████████████████████████████████████████████████████████████████▌                                | 121/176 [40:56<20:54, 22.81s/it]"
     ]
    },
    {
     "name": "stdout",
     "output_type": "stream",
     "text": [
      "Feature shape before pooling: torch.Size([16, 2304, 1, 1, 1])\n"
     ]
    },
    {
     "name": "stderr",
     "output_type": "stream",
     "text": [
      " 69%|████████████████████████████████████████████████████████████████████████                                | 122/176 [41:18<20:17, 22.55s/it]"
     ]
    },
    {
     "name": "stdout",
     "output_type": "stream",
     "text": [
      "Feature shape before pooling: torch.Size([16, 2304, 1, 1, 1])\n"
     ]
    },
    {
     "name": "stderr",
     "output_type": "stream",
     "text": [
      " 70%|████████████████████████████████████████████████████████████████████████▋                               | 123/176 [41:38<19:18, 21.86s/it]"
     ]
    },
    {
     "name": "stdout",
     "output_type": "stream",
     "text": [
      "Feature shape before pooling: torch.Size([16, 2304, 1, 1, 1])\n"
     ]
    },
    {
     "name": "stderr",
     "output_type": "stream",
     "text": [
      " 70%|█████████████████████████████████████████████████████████████████████████▎                              | 124/176 [42:02<19:26, 22.43s/it]"
     ]
    },
    {
     "name": "stdout",
     "output_type": "stream",
     "text": [
      "Feature shape before pooling: torch.Size([16, 2304, 1, 1, 1])\n"
     ]
    },
    {
     "name": "stderr",
     "output_type": "stream",
     "text": [
      " 71%|█████████████████████████████████████████████████████████████████████████▊                              | 125/176 [42:23<18:42, 22.00s/it]"
     ]
    },
    {
     "name": "stdout",
     "output_type": "stream",
     "text": [
      "Feature shape before pooling: torch.Size([16, 2304, 1, 1, 1])\n"
     ]
    },
    {
     "name": "stderr",
     "output_type": "stream",
     "text": [
      " 72%|██████████████████████████████████████████████████████████████████████████▍                             | 126/176 [42:46<18:33, 22.28s/it]"
     ]
    },
    {
     "name": "stdout",
     "output_type": "stream",
     "text": [
      "Feature shape before pooling: torch.Size([16, 2304, 1, 1, 1])\n"
     ]
    },
    {
     "name": "stderr",
     "output_type": "stream",
     "text": [
      " 72%|███████████████████████████████████████████████████████████████████████████                             | 127/176 [43:07<18:04, 22.13s/it]"
     ]
    },
    {
     "name": "stdout",
     "output_type": "stream",
     "text": [
      "Feature shape before pooling: torch.Size([16, 2304, 1, 1, 1])\n"
     ]
    },
    {
     "name": "stderr",
     "output_type": "stream",
     "text": [
      " 73%|███████████████████████████████████████████████████████████████████████████▋                            | 128/176 [43:28<17:23, 21.73s/it]"
     ]
    },
    {
     "name": "stdout",
     "output_type": "stream",
     "text": [
      "Feature shape before pooling: torch.Size([16, 2304, 1, 1, 1])\n"
     ]
    },
    {
     "name": "stderr",
     "output_type": "stream",
     "text": [
      " 73%|████████████████████████████████████████████████████████████████████████████▏                           | 129/176 [43:51<17:13, 21.99s/it]"
     ]
    },
    {
     "name": "stdout",
     "output_type": "stream",
     "text": [
      "Feature shape before pooling: torch.Size([16, 2304, 1, 1, 1])\n"
     ]
    },
    {
     "name": "stderr",
     "output_type": "stream",
     "text": [
      " 74%|████████████████████████████████████████████████████████████████████████████▊                           | 130/176 [44:13<16:52, 22.01s/it]"
     ]
    },
    {
     "name": "stdout",
     "output_type": "stream",
     "text": [
      "Feature shape before pooling: torch.Size([16, 2304, 1, 1, 1])\n"
     ]
    },
    {
     "name": "stderr",
     "output_type": "stream",
     "text": [
      " 74%|█████████████████████████████████████████████████████████████████████████████▍                          | 131/176 [44:37<17:04, 22.76s/it]"
     ]
    },
    {
     "name": "stdout",
     "output_type": "stream",
     "text": [
      "Feature shape before pooling: torch.Size([16, 2304, 1, 1, 1])\n"
     ]
    },
    {
     "name": "stderr",
     "output_type": "stream",
     "text": [
      " 75%|██████████████████████████████████████████████████████████████████████████████                          | 132/176 [44:58<16:19, 22.26s/it]"
     ]
    },
    {
     "name": "stdout",
     "output_type": "stream",
     "text": [
      "Feature shape before pooling: torch.Size([16, 2304, 1, 1, 1])\n"
     ]
    },
    {
     "name": "stderr",
     "output_type": "stream",
     "text": [
      " 76%|██████████████████████████████████████████████████████████████████████████████▌                         | 133/176 [45:19<15:29, 21.61s/it]"
     ]
    },
    {
     "name": "stdout",
     "output_type": "stream",
     "text": [
      "Feature shape before pooling: torch.Size([16, 2304, 1, 1, 1])\n"
     ]
    },
    {
     "name": "stderr",
     "output_type": "stream",
     "text": [
      " 76%|███████████████████████████████████████████████████████████████████████████████▏                        | 134/176 [45:40<15:05, 21.57s/it]"
     ]
    },
    {
     "name": "stdout",
     "output_type": "stream",
     "text": [
      "Feature shape before pooling: torch.Size([16, 2304, 1, 1, 1])\n"
     ]
    },
    {
     "name": "stderr",
     "output_type": "stream",
     "text": [
      " 77%|███████████████████████████████████████████████████████████████████████████████▊                        | 135/176 [46:02<14:45, 21.59s/it]"
     ]
    },
    {
     "name": "stdout",
     "output_type": "stream",
     "text": [
      "Feature shape before pooling: torch.Size([16, 2304, 1, 1, 1])\n"
     ]
    },
    {
     "name": "stderr",
     "output_type": "stream",
     "text": [
      " 77%|████████████████████████████████████████████████████████████████████████████████▎                       | 136/176 [46:23<14:24, 21.61s/it]"
     ]
    },
    {
     "name": "stdout",
     "output_type": "stream",
     "text": [
      "Feature shape before pooling: torch.Size([16, 2304, 1, 1, 1])\n"
     ]
    },
    {
     "name": "stderr",
     "output_type": "stream",
     "text": [
      " 78%|████████████████████████████████████████████████████████████████████████████████▉                       | 137/176 [46:47<14:22, 22.12s/it]"
     ]
    },
    {
     "name": "stdout",
     "output_type": "stream",
     "text": [
      "Feature shape before pooling: torch.Size([16, 2304, 1, 1, 1])\n"
     ]
    },
    {
     "name": "stderr",
     "output_type": "stream",
     "text": [
      " 78%|█████████████████████████████████████████████████████████████████████████████████▌                      | 138/176 [47:09<14:04, 22.23s/it]"
     ]
    },
    {
     "name": "stdout",
     "output_type": "stream",
     "text": [
      "Feature shape before pooling: torch.Size([16, 2304, 1, 1, 1])\n"
     ]
    },
    {
     "name": "stderr",
     "output_type": "stream",
     "text": [
      " 79%|██████████████████████████████████████████████████████████████████████████████████▏                     | 139/176 [47:32<13:51, 22.48s/it]"
     ]
    },
    {
     "name": "stdout",
     "output_type": "stream",
     "text": [
      "Feature shape before pooling: torch.Size([16, 2304, 1, 1, 1])\n"
     ]
    },
    {
     "name": "stderr",
     "output_type": "stream",
     "text": [
      " 80%|██████████████████████████████████████████████████████████████████████████████████▋                     | 140/176 [47:55<13:27, 22.44s/it]"
     ]
    },
    {
     "name": "stdout",
     "output_type": "stream",
     "text": [
      "Feature shape before pooling: torch.Size([16, 2304, 1, 1, 1])\n"
     ]
    },
    {
     "name": "stderr",
     "output_type": "stream",
     "text": [
      " 80%|███████████████████████████████████████████████████████████████████████████████████▎                    | 141/176 [48:17<13:02, 22.35s/it]"
     ]
    },
    {
     "name": "stdout",
     "output_type": "stream",
     "text": [
      "Feature shape before pooling: torch.Size([16, 2304, 1, 1, 1])\n"
     ]
    },
    {
     "name": "stderr",
     "output_type": "stream",
     "text": [
      " 81%|███████████████████████████████████████████████████████████████████████████████████▉                    | 142/176 [48:38<12:30, 22.08s/it]"
     ]
    },
    {
     "name": "stdout",
     "output_type": "stream",
     "text": [
      "Feature shape before pooling: torch.Size([16, 2304, 1, 1, 1])\n"
     ]
    },
    {
     "name": "stderr",
     "output_type": "stream",
     "text": [
      " 81%|████████████████████████████████████████████████████████████████████████████████████▌                   | 143/176 [48:59<11:53, 21.63s/it]"
     ]
    },
    {
     "name": "stdout",
     "output_type": "stream",
     "text": [
      "Feature shape before pooling: torch.Size([16, 2304, 1, 1, 1])\n"
     ]
    },
    {
     "name": "stderr",
     "output_type": "stream",
     "text": [
      " 82%|█████████████████████████████████████████████████████████████████████████████████████                   | 144/176 [49:21<11:40, 21.91s/it]"
     ]
    },
    {
     "name": "stdout",
     "output_type": "stream",
     "text": [
      "Feature shape before pooling: torch.Size([16, 2304, 1, 1, 1])\n"
     ]
    },
    {
     "name": "stderr",
     "output_type": "stream",
     "text": [
      " 82%|█████████████████████████████████████████████████████████████████████████████████████▋                  | 145/176 [49:44<11:22, 22.02s/it]"
     ]
    },
    {
     "name": "stdout",
     "output_type": "stream",
     "text": [
      "Feature shape before pooling: torch.Size([16, 2304, 1, 1, 1])\n"
     ]
    },
    {
     "name": "stderr",
     "output_type": "stream",
     "text": [
      " 83%|██████████████████████████████████████████████████████████████████████████████████████▎                 | 146/176 [50:03<10:38, 21.29s/it]"
     ]
    },
    {
     "name": "stdout",
     "output_type": "stream",
     "text": [
      "Feature shape before pooling: torch.Size([16, 2304, 1, 1, 1])\n"
     ]
    },
    {
     "name": "stderr",
     "output_type": "stream",
     "text": [
      " 84%|██████████████████████████████████████████████████████████████████████████████████████▊                 | 147/176 [50:24<10:10, 21.05s/it]"
     ]
    },
    {
     "name": "stdout",
     "output_type": "stream",
     "text": [
      "Feature shape before pooling: torch.Size([16, 2304, 1, 1, 1])\n"
     ]
    },
    {
     "name": "stderr",
     "output_type": "stream",
     "text": [
      " 84%|███████████████████████████████████████████████████████████████████████████████████████▍                | 148/176 [50:46<09:58, 21.36s/it]"
     ]
    },
    {
     "name": "stdout",
     "output_type": "stream",
     "text": [
      "Feature shape before pooling: torch.Size([16, 2304, 1, 1, 1])\n"
     ]
    },
    {
     "name": "stderr",
     "output_type": "stream",
     "text": [
      " 85%|████████████████████████████████████████████████████████████████████████████████████████                | 149/176 [51:05<09:18, 20.68s/it]"
     ]
    },
    {
     "name": "stdout",
     "output_type": "stream",
     "text": [
      "Feature shape before pooling: torch.Size([16, 2304, 1, 1, 1])\n"
     ]
    },
    {
     "name": "stderr",
     "output_type": "stream",
     "text": [
      " 85%|████████████████████████████████████████████████████████████████████████████████████████▋               | 150/176 [51:23<08:35, 19.84s/it]"
     ]
    },
    {
     "name": "stdout",
     "output_type": "stream",
     "text": [
      "Feature shape before pooling: torch.Size([16, 2304, 1, 1, 1])\n"
     ]
    },
    {
     "name": "stderr",
     "output_type": "stream",
     "text": [
      " 86%|█████████████████████████████████████████████████████████████████████████████████████████▏              | 151/176 [51:40<07:58, 19.14s/it]"
     ]
    },
    {
     "name": "stdout",
     "output_type": "stream",
     "text": [
      "Feature shape before pooling: torch.Size([16, 2304, 1, 1, 1])\n"
     ]
    },
    {
     "name": "stderr",
     "output_type": "stream",
     "text": [
      " 86%|█████████████████████████████████████████████████████████████████████████████████████████▊              | 152/176 [51:58<07:29, 18.74s/it]"
     ]
    },
    {
     "name": "stdout",
     "output_type": "stream",
     "text": [
      "Feature shape before pooling: torch.Size([16, 2304, 1, 1, 1])\n"
     ]
    },
    {
     "name": "stderr",
     "output_type": "stream",
     "text": [
      " 87%|██████████████████████████████████████████████████████████████████████████████████████████▍             | 153/176 [52:16<07:07, 18.57s/it]"
     ]
    },
    {
     "name": "stdout",
     "output_type": "stream",
     "text": [
      "Feature shape before pooling: torch.Size([16, 2304, 1, 1, 1])\n"
     ]
    },
    {
     "name": "stderr",
     "output_type": "stream",
     "text": [
      " 88%|███████████████████████████████████████████████████████████████████████████████████████████             | 154/176 [52:35<06:49, 18.60s/it]"
     ]
    },
    {
     "name": "stdout",
     "output_type": "stream",
     "text": [
      "Feature shape before pooling: torch.Size([16, 2304, 1, 1, 1])\n"
     ]
    },
    {
     "name": "stderr",
     "output_type": "stream",
     "text": [
      " 88%|███████████████████████████████████████████████████████████████████████████████████████████▌            | 155/176 [52:53<06:27, 18.47s/it]"
     ]
    },
    {
     "name": "stdout",
     "output_type": "stream",
     "text": [
      "Feature shape before pooling: torch.Size([16, 2304, 1, 1, 1])\n"
     ]
    },
    {
     "name": "stderr",
     "output_type": "stream",
     "text": [
      " 89%|████████████████████████████████████████████████████████████████████████████████████████████▏           | 156/176 [53:11<06:09, 18.47s/it]"
     ]
    },
    {
     "name": "stdout",
     "output_type": "stream",
     "text": [
      "Feature shape before pooling: torch.Size([16, 2304, 1, 1, 1])\n"
     ]
    },
    {
     "name": "stderr",
     "output_type": "stream",
     "text": [
      " 89%|████████████████████████████████████████████████████████████████████████████████████████████▊           | 157/176 [53:30<05:49, 18.40s/it]"
     ]
    },
    {
     "name": "stdout",
     "output_type": "stream",
     "text": [
      "Feature shape before pooling: torch.Size([16, 2304, 1, 1, 1])\n"
     ]
    },
    {
     "name": "stderr",
     "output_type": "stream",
     "text": [
      " 90%|█████████████████████████████████████████████████████████████████████████████████████████████▎          | 158/176 [53:47<05:27, 18.20s/it]"
     ]
    },
    {
     "name": "stdout",
     "output_type": "stream",
     "text": [
      "Feature shape before pooling: torch.Size([16, 2304, 1, 1, 1])\n"
     ]
    },
    {
     "name": "stderr",
     "output_type": "stream",
     "text": [
      " 90%|█████████████████████████████████████████████████████████████████████████████████████████████▉          | 159/176 [54:06<05:10, 18.27s/it]"
     ]
    },
    {
     "name": "stdout",
     "output_type": "stream",
     "text": [
      "Feature shape before pooling: torch.Size([16, 2304, 1, 1, 1])\n"
     ]
    },
    {
     "name": "stderr",
     "output_type": "stream",
     "text": [
      " 91%|██████████████████████████████████████████████████████████████████████████████████████████████▌         | 160/176 [54:25<04:54, 18.42s/it]"
     ]
    },
    {
     "name": "stdout",
     "output_type": "stream",
     "text": [
      "Feature shape before pooling: torch.Size([16, 2304, 1, 1, 1])\n"
     ]
    },
    {
     "name": "stderr",
     "output_type": "stream",
     "text": [
      " 91%|███████████████████████████████████████████████████████████████████████████████████████████████▏        | 161/176 [54:44<04:41, 18.75s/it]"
     ]
    },
    {
     "name": "stdout",
     "output_type": "stream",
     "text": [
      "Feature shape before pooling: torch.Size([16, 2304, 1, 1, 1])\n"
     ]
    },
    {
     "name": "stderr",
     "output_type": "stream",
     "text": [
      " 92%|███████████████████████████████████████████████████████████████████████████████████████████████▋        | 162/176 [55:05<04:29, 19.25s/it]"
     ]
    },
    {
     "name": "stdout",
     "output_type": "stream",
     "text": [
      "Feature shape before pooling: torch.Size([16, 2304, 1, 1, 1])\n"
     ]
    },
    {
     "name": "stderr",
     "output_type": "stream",
     "text": [
      " 93%|████████████████████████████████████████████████████████████████████████████████████████████████▎       | 163/176 [55:24<04:10, 19.23s/it]"
     ]
    },
    {
     "name": "stdout",
     "output_type": "stream",
     "text": [
      "Feature shape before pooling: torch.Size([16, 2304, 1, 1, 1])\n"
     ]
    },
    {
     "name": "stderr",
     "output_type": "stream",
     "text": [
      " 93%|████████████████████████████████████████████████████████████████████████████████████████████████▉       | 164/176 [55:44<03:52, 19.40s/it]"
     ]
    },
    {
     "name": "stdout",
     "output_type": "stream",
     "text": [
      "Feature shape before pooling: torch.Size([16, 2304, 1, 1, 1])\n"
     ]
    },
    {
     "name": "stderr",
     "output_type": "stream",
     "text": [
      " 94%|█████████████████████████████████████████████████████████████████████████████████████████████████▌      | 165/176 [56:04<03:35, 19.61s/it]"
     ]
    },
    {
     "name": "stdout",
     "output_type": "stream",
     "text": [
      "Feature shape before pooling: torch.Size([16, 2304, 1, 1, 1])\n"
     ]
    },
    {
     "name": "stderr",
     "output_type": "stream",
     "text": [
      " 94%|██████████████████████████████████████████████████████████████████████████████████████████████████      | 166/176 [56:23<03:16, 19.65s/it]"
     ]
    },
    {
     "name": "stdout",
     "output_type": "stream",
     "text": [
      "Feature shape before pooling: torch.Size([16, 2304, 1, 1, 1])\n"
     ]
    },
    {
     "name": "stderr",
     "output_type": "stream",
     "text": [
      " 95%|██████████████████████████████████████████████████████████████████████████████████████████████████▋     | 167/176 [56:43<02:57, 19.76s/it]"
     ]
    },
    {
     "name": "stdout",
     "output_type": "stream",
     "text": [
      "Feature shape before pooling: torch.Size([16, 2304, 1, 1, 1])\n"
     ]
    },
    {
     "name": "stderr",
     "output_type": "stream",
     "text": [
      " 95%|███████████████████████████████████████████████████████████████████████████████████████████████████▎    | 168/176 [57:02<02:35, 19.48s/it]"
     ]
    },
    {
     "name": "stdout",
     "output_type": "stream",
     "text": [
      "Feature shape before pooling: torch.Size([16, 2304, 1, 1, 1])\n"
     ]
    },
    {
     "name": "stderr",
     "output_type": "stream",
     "text": [
      " 96%|███████████████████████████████████████████████████████████████████████████████████████████████████▊    | 169/176 [57:22<02:16, 19.49s/it]"
     ]
    },
    {
     "name": "stdout",
     "output_type": "stream",
     "text": [
      "Feature shape before pooling: torch.Size([16, 2304, 1, 1, 1])\n"
     ]
    },
    {
     "name": "stderr",
     "output_type": "stream",
     "text": [
      " 97%|████████████████████████████████████████████████████████████████████████████████████████████████████▍   | 170/176 [57:42<01:59, 19.85s/it]"
     ]
    },
    {
     "name": "stdout",
     "output_type": "stream",
     "text": [
      "Feature shape before pooling: torch.Size([16, 2304, 1, 1, 1])\n"
     ]
    },
    {
     "name": "stderr",
     "output_type": "stream",
     "text": [
      " 97%|█████████████████████████████████████████████████████████████████████████████████████████████████████   | 171/176 [58:01<01:37, 19.43s/it]"
     ]
    },
    {
     "name": "stdout",
     "output_type": "stream",
     "text": [
      "Feature shape before pooling: torch.Size([16, 2304, 1, 1, 1])\n"
     ]
    },
    {
     "name": "stderr",
     "output_type": "stream",
     "text": [
      " 98%|█████████████████████████████████████████████████████████████████████████████████████████████████████▋  | 172/176 [58:19<01:15, 18.90s/it]"
     ]
    },
    {
     "name": "stdout",
     "output_type": "stream",
     "text": [
      "Feature shape before pooling: torch.Size([16, 2304, 1, 1, 1])\n"
     ]
    },
    {
     "name": "stderr",
     "output_type": "stream",
     "text": [
      " 98%|██████████████████████████████████████████████████████████████████████████████████████████████████████▏ | 173/176 [58:36<00:55, 18.36s/it]"
     ]
    },
    {
     "name": "stdout",
     "output_type": "stream",
     "text": [
      "Feature shape before pooling: torch.Size([16, 2304, 1, 1, 1])\n"
     ]
    },
    {
     "name": "stderr",
     "output_type": "stream",
     "text": [
      " 99%|██████████████████████████████████████████████████████████████████████████████████████████████████████▊ | 174/176 [58:53<00:36, 18.08s/it]"
     ]
    },
    {
     "name": "stdout",
     "output_type": "stream",
     "text": [
      "Feature shape before pooling: torch.Size([16, 2304, 1, 1, 1])\n"
     ]
    },
    {
     "name": "stderr",
     "output_type": "stream",
     "text": [
      " 99%|███████████████████████████████████████████████████████████████████████████████████████████████████████▍| 175/176 [59:10<00:17, 17.84s/it]"
     ]
    },
    {
     "name": "stdout",
     "output_type": "stream",
     "text": [
      "Feature shape before pooling: torch.Size([16, 2304, 1, 1, 1])\n"
     ]
    },
    {
     "name": "stderr",
     "output_type": "stream",
     "text": [
      "100%|████████████████████████████████████████████████████████████████████████████████████████████████████████| 176/176 [59:25<00:00, 20.26s/it]"
     ]
    },
    {
     "name": "stdout",
     "output_type": "stream",
     "text": [
      "Feature shape before pooling: torch.Size([14, 2304, 1, 1, 1])\n",
      "Total test samples: 2814 (Expected: 29270)\n",
      "Total predictions: 2814 (Expected: 29270)\n"
     ]
    },
    {
     "name": "stderr",
     "output_type": "stream",
     "text": [
      "\n"
     ]
    }
   ],
   "source": [
    "device = torch.device(\"cuda\" if torch.cuda.is_available() else \"cpu\")\n",
    "def get_predictions(model, dataloader, device):\n",
    "    model.eval()  # Set model to evaluation mode\n",
    "    all_preds = []\n",
    "    all_labels = []\n",
    "\n",
    "    with torch.no_grad():  # Disable gradient computation for efficiency\n",
    "        for frames, labels in tqdm(dataloader):\n",
    "            frames = frames\n",
    "            labels = labels\n",
    "            slow_frames, fast_frames = frames  # Unpack SlowFast inputs\n",
    "        \n",
    "            slow_frames, fast_frames, labels = (\n",
    "                slow_frames.to(device),\n",
    "                fast_frames.to(device),\n",
    "                labels.to(device),\n",
    "            )\n",
    "\n",
    "            slow_frames = slow_frames.permute(0, 4, 2, 3, 1)\n",
    "            fast_frames = fast_frames.permute(0, 4, 2, 3, 1)\n",
    "            outputs = model(slow_frames, fast_frames)  # Forward pass\n",
    "           # _, preds = torch.max(outputs, 1)  # Get predicted class MULTICLASS APPROACH\n",
    "            #preds = (outputs >= 0.5).float() # Binalry class \n",
    "            preds = (torch.sigmoid(outputs) >= 0.5).float()\n",
    "            all_preds.extend(preds.cpu().numpy())  # Store predictions\n",
    "            all_labels.extend(labels.cpu().numpy())  # Store true labels\n",
    "\n",
    "    return np.array(all_labels), np.array(all_preds)\n",
    "\n",
    "# Example usage:\n",
    "device = torch.device(device)  # Change to \"cuda\" if using GPU\n",
    "true_labels, pred_labels = get_predictions(model_binary, testing_dataloader, device)\n",
    "print(f\"Total test samples: {len(true_labels)} (Expected: 29270)\")\n",
    "print(f\"Total predictions: {len(pred_labels)} (Expected: 29270)\")\n"
   ]
  },
  {
   "cell_type": "code",
   "execution_count": 26,
   "id": "439542b5-3f22-4351-a06e-46cc22fa0f10",
   "metadata": {},
   "outputs": [
    {
     "data": {
      "image/png": "[encoded data removed]",
      "text/plain": [
       "<Figure size 640x480 with 2 Axes>"
      ]
     },
     "metadata": {},
     "output_type": "display_data"
    }
   ],
   "source": [
    "cm = metrics.confusion_matrix(true_labels, pred_labels)\n",
    "sns.heatmap(cm , annot = True)\n",
    "plt.title(\"Confusion Matrix of Slow-Fast Classifier\")\n",
    "plt.xlabel(\"Predicted\")\n",
    "plt.ylabel(\"Actual\")\n",
    "plt.show()"
   ]
  },
  {
   "cell_type": "code",
   "execution_count": null,
   "id": "bf8e694c-afc7-4c31-955a-a60f06c9f7d3",
   "metadata": {},
   "outputs": [],
   "source": []
  }
 ],
 "metadata": {
  "kernelspec": {
   "display_name": "Python 3 (ipykernel)",
   "language": "python",
   "name": "python3"
  },
  "language_info": {
   "codemirror_mode": {
    "name": "ipython",
    "version": 3
   },
   "file_extension": ".py",
   "mimetype": "text/x-python",
   "name": "python",
   "nbconvert_exporter": "python",
   "pygments_lexer": "ipython3",
   "version": "3.11.4"
  }
 },
 "nbformat": 4,
 "nbformat_minor": 5
}
